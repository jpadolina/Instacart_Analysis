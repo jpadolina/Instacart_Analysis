{
  "nbformat": 4,
  "nbformat_minor": 0,
  "metadata": {
    "colab": {
      "name": "InstacartComp.ipynb",
      "provenance": [],
      "collapsed_sections": [
        "cDf_YvomTDc3",
        "AR9EVVa0up_1",
        "GBBhxzDsw6qi",
        "A9wS4bJ3fuPL"
      ],
      "toc_visible": true
    },
    "kernelspec": {
      "display_name": "Python 3",
      "name": "python3"
    }
  },
  "cells": [
    {
      "cell_type": "markdown",
      "metadata": {
        "id": "mDf_drhPDKFv"
      },
      "source": [
        "# Notebook for Instacart Segmentation Project"
      ]
    },
    {
      "cell_type": "markdown",
      "metadata": {
        "id": "fAYCbMcFjl60"
      },
      "source": [
        "# Import data"
      ]
    },
    {
      "cell_type": "code",
      "metadata": {
        "id": "rOcfscqmjsJu"
      },
      "source": [
        "import pandas as pd\n",
        "import numpy as np\n",
        "import matplotlib.pyplot as plt\n",
        "from scipy.stats import scoreatpercentile\n",
        "import seaborn as sns\n",
        "import math\n",
        "import sklearn.preprocessing as skp\n",
        "import sklearn.cluster as skc\n",
        "import sklearn.metrics as skm\n",
        "#import sklearn.manifold.TSNE\n",
        "color = sns.color_palette()"
      ],
      "execution_count": null,
      "outputs": []
    },
    {
      "cell_type": "code",
      "metadata": {
        "colab": {
          "base_uri": "https://localhost:8080/"
        },
        "id": "h8r8PO3GNiyi",
        "outputId": "691049a3-ac19-46fb-c458-ff2519a77af5"
      },
      "source": [
        "from google.colab import drive\n",
        "drive.mount('/content/drive/')"
      ],
      "execution_count": null,
      "outputs": [
        {
          "output_type": "stream",
          "text": [
            "Mounted at /content/drive/\n"
          ],
          "name": "stdout"
        }
      ]
    },
    {
      "cell_type": "code",
      "metadata": {
        "colab": {
          "base_uri": "https://localhost:8080/"
        },
        "id": "Z_EaTR3Ul96Z",
        "outputId": "171e4086-1a45-46d3-e39d-23da2cdf1893"
      },
      "source": [
        "# Change directory to the right drive\n",
        "%cd '/content/drive/MyDrive/Kaggle'"
      ],
      "execution_count": null,
      "outputs": [
        {
          "output_type": "stream",
          "text": [
            "/content/drive/MyDrive/Kaggle\n"
          ],
          "name": "stdout"
        }
      ]
    },
    {
      "cell_type": "code",
      "metadata": {
        "id": "5cLkCR2-jYzl"
      },
      "source": [
        "# Load data\n",
        "aisles = pd.read_csv(\"aisles.csv\")\n",
        "departments = pd.read_csv(\"departments.csv\")\n",
        "orders_prior = pd.read_csv(\"order_products__prior.csv\")\n",
        "orders_train = pd.read_csv(\"order_products__train.csv\")\n",
        "orders = pd.read_csv(\"orders.csv\")\n",
        "products = pd.read_csv(\"products.csv\")"
      ],
      "execution_count": null,
      "outputs": []
    },
    {
      "cell_type": "code",
      "metadata": {
        "colab": {
          "base_uri": "https://localhost:8080/"
        },
        "id": "ncq76gTvKqHC",
        "outputId": "b1152fe1-061e-4170-b00f-2b8109657ed2"
      },
      "source": [
        "orders_prior.shape"
      ],
      "execution_count": null,
      "outputs": [
        {
          "output_type": "execute_result",
          "data": {
            "text/plain": [
              "(32434489, 4)"
            ]
          },
          "metadata": {
            "tags": []
          },
          "execution_count": 5
        }
      ]
    },
    {
      "cell_type": "code",
      "metadata": {
        "id": "dxlSvGuW3Vfk"
      },
      "source": [
        "# Concatenate orders_prior and orders_train\n",
        "orders_products = pd.concat([orders_prior,orders_train])"
      ],
      "execution_count": null,
      "outputs": []
    },
    {
      "cell_type": "code",
      "metadata": {
        "colab": {
          "base_uri": "https://localhost:8080/",
          "height": 204
        },
        "id": "9-NplzSG3Q7c",
        "outputId": "c9b7f357-2d90-4430-a2ee-615482c0b6d9"
      },
      "source": [
        "orders_products.head(5)"
      ],
      "execution_count": null,
      "outputs": [
        {
          "output_type": "execute_result",
          "data": {
            "text/html": [
              "<div>\n",
              "<style scoped>\n",
              "    .dataframe tbody tr th:only-of-type {\n",
              "        vertical-align: middle;\n",
              "    }\n",
              "\n",
              "    .dataframe tbody tr th {\n",
              "        vertical-align: top;\n",
              "    }\n",
              "\n",
              "    .dataframe thead th {\n",
              "        text-align: right;\n",
              "    }\n",
              "</style>\n",
              "<table border=\"1\" class=\"dataframe\">\n",
              "  <thead>\n",
              "    <tr style=\"text-align: right;\">\n",
              "      <th></th>\n",
              "      <th>order_id</th>\n",
              "      <th>product_id</th>\n",
              "      <th>add_to_cart_order</th>\n",
              "      <th>reordered</th>\n",
              "    </tr>\n",
              "  </thead>\n",
              "  <tbody>\n",
              "    <tr>\n",
              "      <th>0</th>\n",
              "      <td>2</td>\n",
              "      <td>33120</td>\n",
              "      <td>1</td>\n",
              "      <td>1</td>\n",
              "    </tr>\n",
              "    <tr>\n",
              "      <th>1</th>\n",
              "      <td>2</td>\n",
              "      <td>28985</td>\n",
              "      <td>2</td>\n",
              "      <td>1</td>\n",
              "    </tr>\n",
              "    <tr>\n",
              "      <th>2</th>\n",
              "      <td>2</td>\n",
              "      <td>9327</td>\n",
              "      <td>3</td>\n",
              "      <td>0</td>\n",
              "    </tr>\n",
              "    <tr>\n",
              "      <th>3</th>\n",
              "      <td>2</td>\n",
              "      <td>45918</td>\n",
              "      <td>4</td>\n",
              "      <td>1</td>\n",
              "    </tr>\n",
              "    <tr>\n",
              "      <th>4</th>\n",
              "      <td>2</td>\n",
              "      <td>30035</td>\n",
              "      <td>5</td>\n",
              "      <td>0</td>\n",
              "    </tr>\n",
              "  </tbody>\n",
              "</table>\n",
              "</div>"
            ],
            "text/plain": [
              "   order_id  product_id  add_to_cart_order  reordered\n",
              "0         2       33120                  1          1\n",
              "1         2       28985                  2          1\n",
              "2         2        9327                  3          0\n",
              "3         2       45918                  4          1\n",
              "4         2       30035                  5          0"
            ]
          },
          "metadata": {
            "tags": []
          },
          "execution_count": 7
        }
      ]
    },
    {
      "cell_type": "code",
      "metadata": {
        "colab": {
          "base_uri": "https://localhost:8080/",
          "height": 359
        },
        "id": "StYNCtZH6ZSP",
        "outputId": "6c63842e-7d66-4a1e-c544-50e3d740db54"
      },
      "source": [
        "orders_products.head(10)"
      ],
      "execution_count": null,
      "outputs": [
        {
          "output_type": "execute_result",
          "data": {
            "text/html": [
              "<div>\n",
              "<style scoped>\n",
              "    .dataframe tbody tr th:only-of-type {\n",
              "        vertical-align: middle;\n",
              "    }\n",
              "\n",
              "    .dataframe tbody tr th {\n",
              "        vertical-align: top;\n",
              "    }\n",
              "\n",
              "    .dataframe thead th {\n",
              "        text-align: right;\n",
              "    }\n",
              "</style>\n",
              "<table border=\"1\" class=\"dataframe\">\n",
              "  <thead>\n",
              "    <tr style=\"text-align: right;\">\n",
              "      <th></th>\n",
              "      <th>order_id</th>\n",
              "      <th>product_id</th>\n",
              "      <th>add_to_cart_order</th>\n",
              "      <th>reordered</th>\n",
              "    </tr>\n",
              "  </thead>\n",
              "  <tbody>\n",
              "    <tr>\n",
              "      <th>0</th>\n",
              "      <td>2</td>\n",
              "      <td>33120</td>\n",
              "      <td>1</td>\n",
              "      <td>1</td>\n",
              "    </tr>\n",
              "    <tr>\n",
              "      <th>1</th>\n",
              "      <td>2</td>\n",
              "      <td>28985</td>\n",
              "      <td>2</td>\n",
              "      <td>1</td>\n",
              "    </tr>\n",
              "    <tr>\n",
              "      <th>2</th>\n",
              "      <td>2</td>\n",
              "      <td>9327</td>\n",
              "      <td>3</td>\n",
              "      <td>0</td>\n",
              "    </tr>\n",
              "    <tr>\n",
              "      <th>3</th>\n",
              "      <td>2</td>\n",
              "      <td>45918</td>\n",
              "      <td>4</td>\n",
              "      <td>1</td>\n",
              "    </tr>\n",
              "    <tr>\n",
              "      <th>4</th>\n",
              "      <td>2</td>\n",
              "      <td>30035</td>\n",
              "      <td>5</td>\n",
              "      <td>0</td>\n",
              "    </tr>\n",
              "    <tr>\n",
              "      <th>5</th>\n",
              "      <td>2</td>\n",
              "      <td>17794</td>\n",
              "      <td>6</td>\n",
              "      <td>1</td>\n",
              "    </tr>\n",
              "    <tr>\n",
              "      <th>6</th>\n",
              "      <td>2</td>\n",
              "      <td>40141</td>\n",
              "      <td>7</td>\n",
              "      <td>1</td>\n",
              "    </tr>\n",
              "    <tr>\n",
              "      <th>7</th>\n",
              "      <td>2</td>\n",
              "      <td>1819</td>\n",
              "      <td>8</td>\n",
              "      <td>1</td>\n",
              "    </tr>\n",
              "    <tr>\n",
              "      <th>8</th>\n",
              "      <td>2</td>\n",
              "      <td>43668</td>\n",
              "      <td>9</td>\n",
              "      <td>0</td>\n",
              "    </tr>\n",
              "    <tr>\n",
              "      <th>9</th>\n",
              "      <td>3</td>\n",
              "      <td>33754</td>\n",
              "      <td>1</td>\n",
              "      <td>1</td>\n",
              "    </tr>\n",
              "  </tbody>\n",
              "</table>\n",
              "</div>"
            ],
            "text/plain": [
              "   order_id  product_id  add_to_cart_order  reordered\n",
              "0         2       33120                  1          1\n",
              "1         2       28985                  2          1\n",
              "2         2        9327                  3          0\n",
              "3         2       45918                  4          1\n",
              "4         2       30035                  5          0\n",
              "5         2       17794                  6          1\n",
              "6         2       40141                  7          1\n",
              "7         2        1819                  8          1\n",
              "8         2       43668                  9          0\n",
              "9         3       33754                  1          1"
            ]
          },
          "metadata": {
            "tags": []
          },
          "execution_count": 8
        }
      ]
    },
    {
      "cell_type": "markdown",
      "metadata": {
        "id": "N-T1TBeC2tzL"
      },
      "source": [
        "# Exploratory Data Analysis (EDA)"
      ]
    },
    {
      "cell_type": "markdown",
      "metadata": {
        "id": "OqO4MuvYB4gs"
      },
      "source": [
        "## Products per Order"
      ]
    },
    {
      "cell_type": "code",
      "metadata": {
        "colab": {
          "base_uri": "https://localhost:8080/"
        },
        "id": "sAPMAt0KaJ01",
        "outputId": "56c47617-3dd4-40b3-b072-3af3f4646747"
      },
      "source": [
        "orders_products.isnull().sum()"
      ],
      "execution_count": null,
      "outputs": [
        {
          "output_type": "execute_result",
          "data": {
            "text/plain": [
              "order_id             0\n",
              "product_id           0\n",
              "add_to_cart_order    0\n",
              "reordered            0\n",
              "dtype: int64"
            ]
          },
          "metadata": {
            "tags": []
          },
          "execution_count": 9
        }
      ]
    },
    {
      "cell_type": "code",
      "metadata": {
        "id": "QgPDxlyxx6J-"
      },
      "source": [
        "# Make a counts table to visualize # products per order\n",
        "product_counts = orders_products.groupby('order_id').count()"
      ],
      "execution_count": null,
      "outputs": []
    },
    {
      "cell_type": "code",
      "metadata": {
        "colab": {
          "base_uri": "https://localhost:8080/",
          "height": 390
        },
        "id": "a2YPDWdzhb6y",
        "outputId": "7f93d96f-20e2-4a6d-94e9-38a2555aabc7"
      },
      "source": [
        "product_counts.head(10)"
      ],
      "execution_count": null,
      "outputs": [
        {
          "output_type": "execute_result",
          "data": {
            "text/html": [
              "<div>\n",
              "<style scoped>\n",
              "    .dataframe tbody tr th:only-of-type {\n",
              "        vertical-align: middle;\n",
              "    }\n",
              "\n",
              "    .dataframe tbody tr th {\n",
              "        vertical-align: top;\n",
              "    }\n",
              "\n",
              "    .dataframe thead th {\n",
              "        text-align: right;\n",
              "    }\n",
              "</style>\n",
              "<table border=\"1\" class=\"dataframe\">\n",
              "  <thead>\n",
              "    <tr style=\"text-align: right;\">\n",
              "      <th></th>\n",
              "      <th>product_id</th>\n",
              "      <th>add_to_cart_order</th>\n",
              "      <th>reordered</th>\n",
              "    </tr>\n",
              "    <tr>\n",
              "      <th>order_id</th>\n",
              "      <th></th>\n",
              "      <th></th>\n",
              "      <th></th>\n",
              "    </tr>\n",
              "  </thead>\n",
              "  <tbody>\n",
              "    <tr>\n",
              "      <th>1</th>\n",
              "      <td>8</td>\n",
              "      <td>8</td>\n",
              "      <td>8</td>\n",
              "    </tr>\n",
              "    <tr>\n",
              "      <th>2</th>\n",
              "      <td>9</td>\n",
              "      <td>9</td>\n",
              "      <td>9</td>\n",
              "    </tr>\n",
              "    <tr>\n",
              "      <th>3</th>\n",
              "      <td>8</td>\n",
              "      <td>8</td>\n",
              "      <td>8</td>\n",
              "    </tr>\n",
              "    <tr>\n",
              "      <th>4</th>\n",
              "      <td>13</td>\n",
              "      <td>13</td>\n",
              "      <td>13</td>\n",
              "    </tr>\n",
              "    <tr>\n",
              "      <th>5</th>\n",
              "      <td>26</td>\n",
              "      <td>26</td>\n",
              "      <td>26</td>\n",
              "    </tr>\n",
              "    <tr>\n",
              "      <th>6</th>\n",
              "      <td>3</td>\n",
              "      <td>3</td>\n",
              "      <td>3</td>\n",
              "    </tr>\n",
              "    <tr>\n",
              "      <th>7</th>\n",
              "      <td>2</td>\n",
              "      <td>2</td>\n",
              "      <td>2</td>\n",
              "    </tr>\n",
              "    <tr>\n",
              "      <th>8</th>\n",
              "      <td>1</td>\n",
              "      <td>1</td>\n",
              "      <td>1</td>\n",
              "    </tr>\n",
              "    <tr>\n",
              "      <th>9</th>\n",
              "      <td>15</td>\n",
              "      <td>15</td>\n",
              "      <td>15</td>\n",
              "    </tr>\n",
              "    <tr>\n",
              "      <th>10</th>\n",
              "      <td>15</td>\n",
              "      <td>15</td>\n",
              "      <td>15</td>\n",
              "    </tr>\n",
              "  </tbody>\n",
              "</table>\n",
              "</div>"
            ],
            "text/plain": [
              "          product_id  add_to_cart_order  reordered\n",
              "order_id                                          \n",
              "1                  8                  8          8\n",
              "2                  9                  9          9\n",
              "3                  8                  8          8\n",
              "4                 13                 13         13\n",
              "5                 26                 26         26\n",
              "6                  3                  3          3\n",
              "7                  2                  2          2\n",
              "8                  1                  1          1\n",
              "9                 15                 15         15\n",
              "10                15                 15         15"
            ]
          },
          "metadata": {
            "tags": []
          },
          "execution_count": 11
        }
      ]
    },
    {
      "cell_type": "code",
      "metadata": {
        "colab": {
          "base_uri": "https://localhost:8080/",
          "height": 359
        },
        "id": "tZ3GFOvE-u4Z",
        "outputId": "67566f4f-b4f7-4722-8167-309bc2e563b9"
      },
      "source": [
        "products.head(10)"
      ],
      "execution_count": null,
      "outputs": [
        {
          "output_type": "execute_result",
          "data": {
            "text/html": [
              "<div>\n",
              "<style scoped>\n",
              "    .dataframe tbody tr th:only-of-type {\n",
              "        vertical-align: middle;\n",
              "    }\n",
              "\n",
              "    .dataframe tbody tr th {\n",
              "        vertical-align: top;\n",
              "    }\n",
              "\n",
              "    .dataframe thead th {\n",
              "        text-align: right;\n",
              "    }\n",
              "</style>\n",
              "<table border=\"1\" class=\"dataframe\">\n",
              "  <thead>\n",
              "    <tr style=\"text-align: right;\">\n",
              "      <th></th>\n",
              "      <th>product_id</th>\n",
              "      <th>product_name</th>\n",
              "      <th>aisle_id</th>\n",
              "      <th>department_id</th>\n",
              "    </tr>\n",
              "  </thead>\n",
              "  <tbody>\n",
              "    <tr>\n",
              "      <th>0</th>\n",
              "      <td>1</td>\n",
              "      <td>Chocolate Sandwich Cookies</td>\n",
              "      <td>61</td>\n",
              "      <td>19</td>\n",
              "    </tr>\n",
              "    <tr>\n",
              "      <th>1</th>\n",
              "      <td>2</td>\n",
              "      <td>All-Seasons Salt</td>\n",
              "      <td>104</td>\n",
              "      <td>13</td>\n",
              "    </tr>\n",
              "    <tr>\n",
              "      <th>2</th>\n",
              "      <td>3</td>\n",
              "      <td>Robust Golden Unsweetened Oolong Tea</td>\n",
              "      <td>94</td>\n",
              "      <td>7</td>\n",
              "    </tr>\n",
              "    <tr>\n",
              "      <th>3</th>\n",
              "      <td>4</td>\n",
              "      <td>Smart Ones Classic Favorites Mini Rigatoni Wit...</td>\n",
              "      <td>38</td>\n",
              "      <td>1</td>\n",
              "    </tr>\n",
              "    <tr>\n",
              "      <th>4</th>\n",
              "      <td>5</td>\n",
              "      <td>Green Chile Anytime Sauce</td>\n",
              "      <td>5</td>\n",
              "      <td>13</td>\n",
              "    </tr>\n",
              "    <tr>\n",
              "      <th>5</th>\n",
              "      <td>6</td>\n",
              "      <td>Dry Nose Oil</td>\n",
              "      <td>11</td>\n",
              "      <td>11</td>\n",
              "    </tr>\n",
              "    <tr>\n",
              "      <th>6</th>\n",
              "      <td>7</td>\n",
              "      <td>Pure Coconut Water With Orange</td>\n",
              "      <td>98</td>\n",
              "      <td>7</td>\n",
              "    </tr>\n",
              "    <tr>\n",
              "      <th>7</th>\n",
              "      <td>8</td>\n",
              "      <td>Cut Russet Potatoes Steam N' Mash</td>\n",
              "      <td>116</td>\n",
              "      <td>1</td>\n",
              "    </tr>\n",
              "    <tr>\n",
              "      <th>8</th>\n",
              "      <td>9</td>\n",
              "      <td>Light Strawberry Blueberry Yogurt</td>\n",
              "      <td>120</td>\n",
              "      <td>16</td>\n",
              "    </tr>\n",
              "    <tr>\n",
              "      <th>9</th>\n",
              "      <td>10</td>\n",
              "      <td>Sparkling Orange Juice &amp; Prickly Pear Beverage</td>\n",
              "      <td>115</td>\n",
              "      <td>7</td>\n",
              "    </tr>\n",
              "  </tbody>\n",
              "</table>\n",
              "</div>"
            ],
            "text/plain": [
              "   product_id  ... department_id\n",
              "0           1  ...            19\n",
              "1           2  ...            13\n",
              "2           3  ...             7\n",
              "3           4  ...             1\n",
              "4           5  ...            13\n",
              "5           6  ...            11\n",
              "6           7  ...             7\n",
              "7           8  ...             1\n",
              "8           9  ...            16\n",
              "9          10  ...             7\n",
              "\n",
              "[10 rows x 4 columns]"
            ]
          },
          "metadata": {
            "tags": []
          },
          "execution_count": 12
        }
      ]
    },
    {
      "cell_type": "code",
      "metadata": {
        "colab": {
          "base_uri": "https://localhost:8080/",
          "height": 401
        },
        "id": "Pv_8xb4P9h_6",
        "outputId": "3452380c-2561-490b-c167-47579591bcab"
      },
      "source": [
        "plt.boxplot(product_counts['product_id'])"
      ],
      "execution_count": null,
      "outputs": [
        {
          "output_type": "execute_result",
          "data": {
            "text/plain": [
              "{'boxes': [<matplotlib.lines.Line2D at 0x7fac79b895d0>],\n",
              " 'caps': [<matplotlib.lines.Line2D at 0x7fac79b95610>,\n",
              "  <matplotlib.lines.Line2D at 0x7fac79b95b50>],\n",
              " 'fliers': [<matplotlib.lines.Line2D at 0x7fac79bf5c10>],\n",
              " 'means': [],\n",
              " 'medians': [<matplotlib.lines.Line2D at 0x7fac79b9b110>],\n",
              " 'whiskers': [<matplotlib.lines.Line2D at 0x7fac79b89b50>,\n",
              "  <matplotlib.lines.Line2D at 0x7fac79b950d0>]}"
            ]
          },
          "metadata": {
            "tags": []
          },
          "execution_count": 13
        },
        {
          "output_type": "display_data",
          "data": {
            "image/png": "[encoded data removed]",
            "text/plain": [
              "<Figure size 432x288 with 1 Axes>"
            ]
          },
          "metadata": {
            "tags": [],
            "needs_background": "light"
          }
        }
      ]
    },
    {
      "cell_type": "code",
      "metadata": {
        "colab": {
          "base_uri": "https://localhost:8080/",
          "height": 378
        },
        "id": "jxQOP2WW9H9l",
        "outputId": "03b040b3-4f6b-4227-afcc-7407e4cd0928"
      },
      "source": [
        "plt.hist(product_counts['product_id'])"
      ],
      "execution_count": null,
      "outputs": [
        {
          "output_type": "execute_result",
          "data": {
            "text/plain": [
              "(array([2.696216e+06, 5.690350e+05, 7.299100e+04, 6.739000e+03,\n",
              "        8.790000e+02, 1.560000e+02, 4.900000e+01, 1.400000e+01,\n",
              "        2.000000e+00, 2.000000e+00]),\n",
              " array([  1. ,  15.4,  29.8,  44.2,  58.6,  73. ,  87.4, 101.8, 116.2,\n",
              "        130.6, 145. ]),\n",
              " <a list of 10 Patch objects>)"
            ]
          },
          "metadata": {
            "tags": []
          },
          "execution_count": 14
        },
        {
          "output_type": "display_data",
          "data": {
            "image/png": "[encoded data removed]",
            "text/plain": [
              "<Figure size 432x288 with 1 Axes>"
            ]
          },
          "metadata": {
            "tags": [],
            "needs_background": "light"
          }
        }
      ]
    },
    {
      "cell_type": "code",
      "metadata": {
        "colab": {
          "base_uri": "https://localhost:8080/"
        },
        "id": "KrZJt_hh-czk",
        "outputId": "4f972516-bbef-4e4e-885f-e44e7919e8a4"
      },
      "source": [
        "# Find the mean products per order\n",
        "product_counts['product_id'].mean()"
      ],
      "execution_count": null,
      "outputs": [
        {
          "output_type": "execute_result",
          "data": {
            "text/plain": [
              "10.10707325550502"
            ]
          },
          "metadata": {
            "tags": []
          },
          "execution_count": 15
        }
      ]
    },
    {
      "cell_type": "code",
      "metadata": {
        "colab": {
          "base_uri": "https://localhost:8080/"
        },
        "id": "KiaH4QZY-hdI",
        "outputId": "20e165c6-83f5-4b37-b9a3-b41f4416de9a"
      },
      "source": [
        "# Find the mode products per order\n",
        "product_counts['product_id'].mode()"
      ],
      "execution_count": null,
      "outputs": [
        {
          "output_type": "execute_result",
          "data": {
            "text/plain": [
              "0    5\n",
              "dtype: int64"
            ]
          },
          "metadata": {
            "tags": []
          },
          "execution_count": 16
        }
      ]
    },
    {
      "cell_type": "code",
      "metadata": {
        "colab": {
          "base_uri": "https://localhost:8080/"
        },
        "id": "cPDt4m8N-kmD",
        "outputId": "5314e7e2-a37f-4311-c16f-867a3efa32ba"
      },
      "source": [
        "# Find the median products per order\n",
        "product_counts['product_id'].median()"
      ],
      "execution_count": null,
      "outputs": [
        {
          "output_type": "execute_result",
          "data": {
            "text/plain": [
              "8.0"
            ]
          },
          "metadata": {
            "tags": []
          },
          "execution_count": 17
        }
      ]
    },
    {
      "cell_type": "code",
      "metadata": {
        "colab": {
          "base_uri": "https://localhost:8080/"
        },
        "id": "314sJhLx_RzH",
        "outputId": "75e5f3c1-cd35-4393-d913-12566a7daf8a"
      },
      "source": [
        "# IQR products per order\n",
        "q1 = scoreatpercentile(product_counts['product_id'],25)\n",
        "q3 = scoreatpercentile(product_counts['product_id'],75)\n",
        "[q1,q3]"
      ],
      "execution_count": null,
      "outputs": [
        {
          "output_type": "execute_result",
          "data": {
            "text/plain": [
              "[5.0, 14.0]"
            ]
          },
          "metadata": {
            "tags": []
          },
          "execution_count": 18
        }
      ]
    },
    {
      "cell_type": "markdown",
      "metadata": {
        "id": "DU0dKOcEcG37"
      },
      "source": [
        "## Products Reordered"
      ]
    },
    {
      "cell_type": "code",
      "metadata": {
        "colab": {
          "base_uri": "https://localhost:8080/"
        },
        "id": "Ajw3iaqzADvw",
        "outputId": "e84cb22e-3bf0-4578-877f-43b9f7307829"
      },
      "source": [
        "# Find percentage of orders that had reordered products\n",
        "orders_with_re = orders_products.groupby('order_id')['reordered'].sum()\n",
        "orders_with_re.head(5)"
      ],
      "execution_count": null,
      "outputs": [
        {
          "output_type": "execute_result",
          "data": {
            "text/plain": [
              "order_id\n",
              "1     4\n",
              "2     6\n",
              "3     8\n",
              "4    12\n",
              "5    21\n",
              "Name: reordered, dtype: int64"
            ]
          },
          "metadata": {
            "tags": []
          },
          "execution_count": 19
        }
      ]
    },
    {
      "cell_type": "code",
      "metadata": {
        "colab": {
          "base_uri": "https://localhost:8080/"
        },
        "id": "1f_tvzceGdk0",
        "outputId": "c18d9a06-9120-4a7b-9c02-0e15975cd0d8"
      },
      "source": [
        "(len(orders_with_re)-len(orders_with_re[orders_with_re == 0]))/len(orders_with_re)"
      ],
      "execution_count": null,
      "outputs": [
        {
          "output_type": "execute_result",
          "data": {
            "text/plain": [
              "0.8813194412690899"
            ]
          },
          "metadata": {
            "tags": []
          },
          "execution_count": 20
        }
      ]
    },
    {
      "cell_type": "code",
      "metadata": {
        "id": "QHpxzYL7JBTa"
      },
      "source": [
        "# Find number of times each product has been reordered\n",
        "reordered_products = orders_products.groupby('product_id')['reordered'].sum()"
      ],
      "execution_count": null,
      "outputs": []
    },
    {
      "cell_type": "code",
      "metadata": {
        "colab": {
          "base_uri": "https://localhost:8080/"
        },
        "id": "6APp8cXLJhhg",
        "outputId": "7982bb31-7474-4f10-c437-7ceee11914dc"
      },
      "source": [
        "reordered_products.head(10)"
      ],
      "execution_count": null,
      "outputs": [
        {
          "output_type": "execute_result",
          "data": {
            "text/plain": [
              "product_id\n",
              "1     1185\n",
              "2       13\n",
              "3      209\n",
              "4      161\n",
              "5       10\n",
              "6        3\n",
              "7       13\n",
              "8       90\n",
              "9       84\n",
              "10    1374\n",
              "Name: reordered, dtype: int64"
            ]
          },
          "metadata": {
            "tags": []
          },
          "execution_count": 22
        }
      ]
    },
    {
      "cell_type": "code",
      "metadata": {
        "id": "XAt7WaaOcMM_"
      },
      "source": [
        "# Find the most reordered products\n",
        "reordered_productsname = pd.merge(reordered_products, products, on = 'product_id', how = 'left')"
      ],
      "execution_count": null,
      "outputs": []
    },
    {
      "cell_type": "code",
      "metadata": {
        "colab": {
          "base_uri": "https://localhost:8080/",
          "height": 359
        },
        "id": "XFgYQprUc1ch",
        "outputId": "b5ef01e3-b875-4f9a-838c-3d37cc463fa0"
      },
      "source": [
        "reordered_productsname.sort_values('reordered',ascending=False).head(10)"
      ],
      "execution_count": null,
      "outputs": [
        {
          "output_type": "execute_result",
          "data": {
            "text/html": [
              "<div>\n",
              "<style scoped>\n",
              "    .dataframe tbody tr th:only-of-type {\n",
              "        vertical-align: middle;\n",
              "    }\n",
              "\n",
              "    .dataframe tbody tr th {\n",
              "        vertical-align: top;\n",
              "    }\n",
              "\n",
              "    .dataframe thead th {\n",
              "        text-align: right;\n",
              "    }\n",
              "</style>\n",
              "<table border=\"1\" class=\"dataframe\">\n",
              "  <thead>\n",
              "    <tr style=\"text-align: right;\">\n",
              "      <th></th>\n",
              "      <th>product_id</th>\n",
              "      <th>reordered</th>\n",
              "      <th>product_name</th>\n",
              "      <th>aisle_id</th>\n",
              "      <th>department_id</th>\n",
              "    </tr>\n",
              "  </thead>\n",
              "  <tbody>\n",
              "    <tr>\n",
              "      <th>24849</th>\n",
              "      <td>24852</td>\n",
              "      <td>415166</td>\n",
              "      <td>Banana</td>\n",
              "      <td>24</td>\n",
              "      <td>4</td>\n",
              "    </tr>\n",
              "    <tr>\n",
              "      <th>13173</th>\n",
              "      <td>13176</td>\n",
              "      <td>329275</td>\n",
              "      <td>Bag of Organic Bananas</td>\n",
              "      <td>24</td>\n",
              "      <td>4</td>\n",
              "    </tr>\n",
              "    <tr>\n",
              "      <th>21134</th>\n",
              "      <td>21137</td>\n",
              "      <td>214448</td>\n",
              "      <td>Organic Strawberries</td>\n",
              "      <td>24</td>\n",
              "      <td>4</td>\n",
              "    </tr>\n",
              "    <tr>\n",
              "      <th>21900</th>\n",
              "      <td>21903</td>\n",
              "      <td>194939</td>\n",
              "      <td>Organic Baby Spinach</td>\n",
              "      <td>123</td>\n",
              "      <td>4</td>\n",
              "    </tr>\n",
              "    <tr>\n",
              "      <th>47205</th>\n",
              "      <td>47209</td>\n",
              "      <td>176173</td>\n",
              "      <td>Organic Hass Avocado</td>\n",
              "      <td>24</td>\n",
              "      <td>4</td>\n",
              "    </tr>\n",
              "    <tr>\n",
              "      <th>47762</th>\n",
              "      <td>47766</td>\n",
              "      <td>140270</td>\n",
              "      <td>Organic Avocado</td>\n",
              "      <td>24</td>\n",
              "      <td>4</td>\n",
              "    </tr>\n",
              "    <tr>\n",
              "      <th>27842</th>\n",
              "      <td>27845</td>\n",
              "      <td>118684</td>\n",
              "      <td>Organic Whole Milk</td>\n",
              "      <td>84</td>\n",
              "      <td>16</td>\n",
              "    </tr>\n",
              "    <tr>\n",
              "      <th>47622</th>\n",
              "      <td>47626</td>\n",
              "      <td>112178</td>\n",
              "      <td>Large Lemon</td>\n",
              "      <td>24</td>\n",
              "      <td>4</td>\n",
              "    </tr>\n",
              "    <tr>\n",
              "      <th>27963</th>\n",
              "      <td>27966</td>\n",
              "      <td>109688</td>\n",
              "      <td>Organic Raspberries</td>\n",
              "      <td>123</td>\n",
              "      <td>4</td>\n",
              "    </tr>\n",
              "    <tr>\n",
              "      <th>16794</th>\n",
              "      <td>16797</td>\n",
              "      <td>104588</td>\n",
              "      <td>Strawberries</td>\n",
              "      <td>24</td>\n",
              "      <td>4</td>\n",
              "    </tr>\n",
              "  </tbody>\n",
              "</table>\n",
              "</div>"
            ],
            "text/plain": [
              "       product_id  reordered            product_name  aisle_id  department_id\n",
              "24849       24852     415166                  Banana        24              4\n",
              "13173       13176     329275  Bag of Organic Bananas        24              4\n",
              "21134       21137     214448    Organic Strawberries        24              4\n",
              "21900       21903     194939    Organic Baby Spinach       123              4\n",
              "47205       47209     176173    Organic Hass Avocado        24              4\n",
              "47762       47766     140270         Organic Avocado        24              4\n",
              "27842       27845     118684      Organic Whole Milk        84             16\n",
              "47622       47626     112178             Large Lemon        24              4\n",
              "27963       27966     109688     Organic Raspberries       123              4\n",
              "16794       16797     104588            Strawberries        24              4"
            ]
          },
          "metadata": {
            "tags": []
          },
          "execution_count": 24
        }
      ]
    },
    {
      "cell_type": "markdown",
      "metadata": {
        "id": "nafniFseKA_R"
      },
      "source": [
        "Main findings of orders_products table\n",
        "1. IQR (75%) of number products per order is 5-14 products.\n",
        "2. Distribution of number of products per order is right-skewed with a mean of 10.11 and a mode of 5.\n",
        "3. 88% of orders include reordered products.\n",
        "4. Select fruits and milk are among the most reordered products."
      ]
    },
    {
      "cell_type": "code",
      "metadata": {
        "id": "8lX_pzHZknMM"
      },
      "source": [
        "# Total and average number of products purchased per customer\n",
        "orders_products_cust = pd.merge(orders_products, orders[['order_id','user_id']],on = 'order_id')"
      ],
      "execution_count": null,
      "outputs": []
    },
    {
      "cell_type": "code",
      "metadata": {
        "id": "WZ931AUplzQm"
      },
      "source": [
        "cust_products = orders_products_cust.groupby(['user_id'])['product_id'].count()\n",
        "orders_per_customer = orders_products_cust.groupby(['user_id'])['order_id'].nunique()"
      ],
      "execution_count": null,
      "outputs": []
    },
    {
      "cell_type": "code",
      "metadata": {
        "colab": {
          "base_uri": "https://localhost:8080/",
          "height": 359
        },
        "id": "p-atVSSErgq6",
        "outputId": "56afc4d2-37e5-47d4-8b1c-82e08fd706f4"
      },
      "source": [
        "orders_products_cust.head(10)"
      ],
      "execution_count": null,
      "outputs": [
        {
          "output_type": "execute_result",
          "data": {
            "text/html": [
              "<div>\n",
              "<style scoped>\n",
              "    .dataframe tbody tr th:only-of-type {\n",
              "        vertical-align: middle;\n",
              "    }\n",
              "\n",
              "    .dataframe tbody tr th {\n",
              "        vertical-align: top;\n",
              "    }\n",
              "\n",
              "    .dataframe thead th {\n",
              "        text-align: right;\n",
              "    }\n",
              "</style>\n",
              "<table border=\"1\" class=\"dataframe\">\n",
              "  <thead>\n",
              "    <tr style=\"text-align: right;\">\n",
              "      <th></th>\n",
              "      <th>order_id</th>\n",
              "      <th>product_id</th>\n",
              "      <th>add_to_cart_order</th>\n",
              "      <th>reordered</th>\n",
              "      <th>user_id</th>\n",
              "    </tr>\n",
              "  </thead>\n",
              "  <tbody>\n",
              "    <tr>\n",
              "      <th>0</th>\n",
              "      <td>2</td>\n",
              "      <td>33120</td>\n",
              "      <td>1</td>\n",
              "      <td>1</td>\n",
              "      <td>202279</td>\n",
              "    </tr>\n",
              "    <tr>\n",
              "      <th>1</th>\n",
              "      <td>2</td>\n",
              "      <td>28985</td>\n",
              "      <td>2</td>\n",
              "      <td>1</td>\n",
              "      <td>202279</td>\n",
              "    </tr>\n",
              "    <tr>\n",
              "      <th>2</th>\n",
              "      <td>2</td>\n",
              "      <td>9327</td>\n",
              "      <td>3</td>\n",
              "      <td>0</td>\n",
              "      <td>202279</td>\n",
              "    </tr>\n",
              "    <tr>\n",
              "      <th>3</th>\n",
              "      <td>2</td>\n",
              "      <td>45918</td>\n",
              "      <td>4</td>\n",
              "      <td>1</td>\n",
              "      <td>202279</td>\n",
              "    </tr>\n",
              "    <tr>\n",
              "      <th>4</th>\n",
              "      <td>2</td>\n",
              "      <td>30035</td>\n",
              "      <td>5</td>\n",
              "      <td>0</td>\n",
              "      <td>202279</td>\n",
              "    </tr>\n",
              "    <tr>\n",
              "      <th>5</th>\n",
              "      <td>2</td>\n",
              "      <td>17794</td>\n",
              "      <td>6</td>\n",
              "      <td>1</td>\n",
              "      <td>202279</td>\n",
              "    </tr>\n",
              "    <tr>\n",
              "      <th>6</th>\n",
              "      <td>2</td>\n",
              "      <td>40141</td>\n",
              "      <td>7</td>\n",
              "      <td>1</td>\n",
              "      <td>202279</td>\n",
              "    </tr>\n",
              "    <tr>\n",
              "      <th>7</th>\n",
              "      <td>2</td>\n",
              "      <td>1819</td>\n",
              "      <td>8</td>\n",
              "      <td>1</td>\n",
              "      <td>202279</td>\n",
              "    </tr>\n",
              "    <tr>\n",
              "      <th>8</th>\n",
              "      <td>2</td>\n",
              "      <td>43668</td>\n",
              "      <td>9</td>\n",
              "      <td>0</td>\n",
              "      <td>202279</td>\n",
              "    </tr>\n",
              "    <tr>\n",
              "      <th>9</th>\n",
              "      <td>3</td>\n",
              "      <td>33754</td>\n",
              "      <td>1</td>\n",
              "      <td>1</td>\n",
              "      <td>205970</td>\n",
              "    </tr>\n",
              "  </tbody>\n",
              "</table>\n",
              "</div>"
            ],
            "text/plain": [
              "   order_id  product_id  add_to_cart_order  reordered  user_id\n",
              "0         2       33120                  1          1   202279\n",
              "1         2       28985                  2          1   202279\n",
              "2         2        9327                  3          0   202279\n",
              "3         2       45918                  4          1   202279\n",
              "4         2       30035                  5          0   202279\n",
              "5         2       17794                  6          1   202279\n",
              "6         2       40141                  7          1   202279\n",
              "7         2        1819                  8          1   202279\n",
              "8         2       43668                  9          0   202279\n",
              "9         3       33754                  1          1   205970"
            ]
          },
          "metadata": {
            "tags": []
          },
          "execution_count": 27
        }
      ]
    },
    {
      "cell_type": "markdown",
      "metadata": {
        "id": "cDf_YvomTDc3"
      },
      "source": [
        "## Products"
      ]
    },
    {
      "cell_type": "code",
      "metadata": {
        "colab": {
          "base_uri": "https://localhost:8080/"
        },
        "id": "SpnIlffzTW8I",
        "outputId": "ca3e2c24-4bf0-4679-953a-f5cc28379c56"
      },
      "source": [
        "products.info()"
      ],
      "execution_count": null,
      "outputs": [
        {
          "output_type": "stream",
          "text": [
            "<class 'pandas.core.frame.DataFrame'>\n",
            "RangeIndex: 49688 entries, 0 to 49687\n",
            "Data columns (total 4 columns):\n",
            " #   Column         Non-Null Count  Dtype \n",
            "---  ------         --------------  ----- \n",
            " 0   product_id     49688 non-null  int64 \n",
            " 1   product_name   49688 non-null  object\n",
            " 2   aisle_id       49688 non-null  int64 \n",
            " 3   department_id  49688 non-null  int64 \n",
            "dtypes: int64(3), object(1)\n",
            "memory usage: 1.5+ MB\n"
          ],
          "name": "stdout"
        }
      ]
    },
    {
      "cell_type": "code",
      "metadata": {
        "colab": {
          "base_uri": "https://localhost:8080/"
        },
        "id": "El1YUOUZTgAg",
        "outputId": "3717df04-8a3d-43ec-8f9c-ff2a07bd7d86"
      },
      "source": [
        "products.isnull().sum()"
      ],
      "execution_count": null,
      "outputs": [
        {
          "output_type": "execute_result",
          "data": {
            "text/plain": [
              "product_id       0\n",
              "product_name     0\n",
              "aisle_id         0\n",
              "department_id    0\n",
              "dtype: int64"
            ]
          },
          "metadata": {
            "tags": []
          },
          "execution_count": 29
        }
      ]
    },
    {
      "cell_type": "code",
      "metadata": {
        "colab": {
          "base_uri": "https://localhost:8080/"
        },
        "id": "lL60fY__TusR",
        "outputId": "cb95b4d4-8c23-4b01-dbd4-cee08c190a19"
      },
      "source": [
        "products.head()"
      ],
      "execution_count": null,
      "outputs": [
        {
          "output_type": "execute_result",
          "data": {
            "text/html": [
              "<div>\n",
              "<style scoped>\n",
              "    .dataframe tbody tr th:only-of-type {\n",
              "        vertical-align: middle;\n",
              "    }\n",
              "\n",
              "    .dataframe tbody tr th {\n",
              "        vertical-align: top;\n",
              "    }\n",
              "\n",
              "    .dataframe thead th {\n",
              "        text-align: right;\n",
              "    }\n",
              "</style>\n",
              "<table border=\"1\" class=\"dataframe\">\n",
              "  <thead>\n",
              "    <tr style=\"text-align: right;\">\n",
              "      <th></th>\n",
              "      <th>product_id</th>\n",
              "      <th>product_name</th>\n",
              "      <th>aisle_id</th>\n",
              "      <th>department_id</th>\n",
              "    </tr>\n",
              "  </thead>\n",
              "  <tbody>\n",
              "    <tr>\n",
              "      <th>0</th>\n",
              "      <td>1</td>\n",
              "      <td>Chocolate Sandwich Cookies</td>\n",
              "      <td>61</td>\n",
              "      <td>19</td>\n",
              "    </tr>\n",
              "    <tr>\n",
              "      <th>1</th>\n",
              "      <td>2</td>\n",
              "      <td>All-Seasons Salt</td>\n",
              "      <td>104</td>\n",
              "      <td>13</td>\n",
              "    </tr>\n",
              "    <tr>\n",
              "      <th>2</th>\n",
              "      <td>3</td>\n",
              "      <td>Robust Golden Unsweetened Oolong Tea</td>\n",
              "      <td>94</td>\n",
              "      <td>7</td>\n",
              "    </tr>\n",
              "    <tr>\n",
              "      <th>3</th>\n",
              "      <td>4</td>\n",
              "      <td>Smart Ones Classic Favorites Mini Rigatoni Wit...</td>\n",
              "      <td>38</td>\n",
              "      <td>1</td>\n",
              "    </tr>\n",
              "    <tr>\n",
              "      <th>4</th>\n",
              "      <td>5</td>\n",
              "      <td>Green Chile Anytime Sauce</td>\n",
              "      <td>5</td>\n",
              "      <td>13</td>\n",
              "    </tr>\n",
              "  </tbody>\n",
              "</table>\n",
              "</div>"
            ],
            "text/plain": [
              "   product_id  ... department_id\n",
              "0           1  ...            19\n",
              "1           2  ...            13\n",
              "2           3  ...             7\n",
              "3           4  ...             1\n",
              "4           5  ...            13\n",
              "\n",
              "[5 rows x 4 columns]"
            ]
          },
          "metadata": {
            "tags": []
          },
          "execution_count": 30
        }
      ]
    },
    {
      "cell_type": "code",
      "metadata": {
        "colab": {
          "base_uri": "https://localhost:8080/"
        },
        "id": "j_f5YVPRUbsB",
        "outputId": "1539fec8-1552-495e-c484-5e4c5e5aafe6"
      },
      "source": [
        "products.hist(column = 'department_id')"
      ],
      "execution_count": null,
      "outputs": [
        {
          "output_type": "execute_result",
          "data": {
            "text/plain": [
              "array([[<matplotlib.axes._subplots.AxesSubplot object at 0x7fac7961bdd0>]],\n",
              "      dtype=object)"
            ]
          },
          "metadata": {
            "tags": []
          },
          "execution_count": 31
        },
        {
          "output_type": "display_data",
          "data": {
            "image/png": "[encoded data removed]",
            "text/plain": [
              "<Figure size 432x288 with 1 Axes>"
            ]
          },
          "metadata": {
            "tags": [],
            "needs_background": "light"
          }
        }
      ]
    },
    {
      "cell_type": "code",
      "metadata": {
        "colab": {
          "base_uri": "https://localhost:8080/"
        },
        "id": "a1Qocy5iUtf9",
        "outputId": "75c3579c-fa85-49ef-b5a5-45e6df84bdfb"
      },
      "source": [
        "products.hist(column='aisle_id')"
      ],
      "execution_count": null,
      "outputs": [
        {
          "output_type": "execute_result",
          "data": {
            "text/plain": [
              "array([[<matplotlib.axes._subplots.AxesSubplot object at 0x7fac782be590>]],\n",
              "      dtype=object)"
            ]
          },
          "metadata": {
            "tags": []
          },
          "execution_count": 32
        },
        {
          "output_type": "display_data",
          "data": {
            "image/png": "[encoded data removed]",
            "text/plain": [
              "<Figure size 432x288 with 1 Axes>"
            ]
          },
          "metadata": {
            "tags": [],
            "needs_background": "light"
          }
        }
      ]
    },
    {
      "cell_type": "code",
      "metadata": {
        "colab": {
          "base_uri": "https://localhost:8080/"
        },
        "id": "LSA_pYGzU3_d",
        "outputId": "82d78ee1-a886-4d6c-e9e9-de92c73bce45"
      },
      "source": [
        "prod_dept = pd.merge(products, departments, on = 'department_id', how = 'left')\n",
        "prod_dept.head()"
      ],
      "execution_count": null,
      "outputs": [
        {
          "output_type": "execute_result",
          "data": {
            "text/html": [
              "<div>\n",
              "<style scoped>\n",
              "    .dataframe tbody tr th:only-of-type {\n",
              "        vertical-align: middle;\n",
              "    }\n",
              "\n",
              "    .dataframe tbody tr th {\n",
              "        vertical-align: top;\n",
              "    }\n",
              "\n",
              "    .dataframe thead th {\n",
              "        text-align: right;\n",
              "    }\n",
              "</style>\n",
              "<table border=\"1\" class=\"dataframe\">\n",
              "  <thead>\n",
              "    <tr style=\"text-align: right;\">\n",
              "      <th></th>\n",
              "      <th>product_id</th>\n",
              "      <th>product_name</th>\n",
              "      <th>aisle_id</th>\n",
              "      <th>department_id</th>\n",
              "      <th>department</th>\n",
              "    </tr>\n",
              "  </thead>\n",
              "  <tbody>\n",
              "    <tr>\n",
              "      <th>0</th>\n",
              "      <td>1</td>\n",
              "      <td>Chocolate Sandwich Cookies</td>\n",
              "      <td>61</td>\n",
              "      <td>19</td>\n",
              "      <td>snacks</td>\n",
              "    </tr>\n",
              "    <tr>\n",
              "      <th>1</th>\n",
              "      <td>2</td>\n",
              "      <td>All-Seasons Salt</td>\n",
              "      <td>104</td>\n",
              "      <td>13</td>\n",
              "      <td>pantry</td>\n",
              "    </tr>\n",
              "    <tr>\n",
              "      <th>2</th>\n",
              "      <td>3</td>\n",
              "      <td>Robust Golden Unsweetened Oolong Tea</td>\n",
              "      <td>94</td>\n",
              "      <td>7</td>\n",
              "      <td>beverages</td>\n",
              "    </tr>\n",
              "    <tr>\n",
              "      <th>3</th>\n",
              "      <td>4</td>\n",
              "      <td>Smart Ones Classic Favorites Mini Rigatoni Wit...</td>\n",
              "      <td>38</td>\n",
              "      <td>1</td>\n",
              "      <td>frozen</td>\n",
              "    </tr>\n",
              "    <tr>\n",
              "      <th>4</th>\n",
              "      <td>5</td>\n",
              "      <td>Green Chile Anytime Sauce</td>\n",
              "      <td>5</td>\n",
              "      <td>13</td>\n",
              "      <td>pantry</td>\n",
              "    </tr>\n",
              "  </tbody>\n",
              "</table>\n",
              "</div>"
            ],
            "text/plain": [
              "   product_id  ... department\n",
              "0           1  ...     snacks\n",
              "1           2  ...     pantry\n",
              "2           3  ...  beverages\n",
              "3           4  ...     frozen\n",
              "4           5  ...     pantry\n",
              "\n",
              "[5 rows x 5 columns]"
            ]
          },
          "metadata": {
            "tags": []
          },
          "execution_count": 33
        }
      ]
    },
    {
      "cell_type": "code",
      "metadata": {
        "colab": {
          "base_uri": "https://localhost:8080/"
        },
        "id": "CCZZmSqfVeDb",
        "outputId": "560e9ac4-7c65-4c00-e655-64d1eda299c1"
      },
      "source": [
        "prod_dept_aisle = pd.merge(prod_dept, aisles, on = 'aisle_id', how = 'left')\n",
        "prod_dept_aisle.head()"
      ],
      "execution_count": null,
      "outputs": [
        {
          "output_type": "execute_result",
          "data": {
            "text/html": [
              "<div>\n",
              "<style scoped>\n",
              "    .dataframe tbody tr th:only-of-type {\n",
              "        vertical-align: middle;\n",
              "    }\n",
              "\n",
              "    .dataframe tbody tr th {\n",
              "        vertical-align: top;\n",
              "    }\n",
              "\n",
              "    .dataframe thead th {\n",
              "        text-align: right;\n",
              "    }\n",
              "</style>\n",
              "<table border=\"1\" class=\"dataframe\">\n",
              "  <thead>\n",
              "    <tr style=\"text-align: right;\">\n",
              "      <th></th>\n",
              "      <th>product_id</th>\n",
              "      <th>product_name</th>\n",
              "      <th>aisle_id</th>\n",
              "      <th>department_id</th>\n",
              "      <th>department</th>\n",
              "      <th>aisle</th>\n",
              "    </tr>\n",
              "  </thead>\n",
              "  <tbody>\n",
              "    <tr>\n",
              "      <th>0</th>\n",
              "      <td>1</td>\n",
              "      <td>Chocolate Sandwich Cookies</td>\n",
              "      <td>61</td>\n",
              "      <td>19</td>\n",
              "      <td>snacks</td>\n",
              "      <td>cookies cakes</td>\n",
              "    </tr>\n",
              "    <tr>\n",
              "      <th>1</th>\n",
              "      <td>2</td>\n",
              "      <td>All-Seasons Salt</td>\n",
              "      <td>104</td>\n",
              "      <td>13</td>\n",
              "      <td>pantry</td>\n",
              "      <td>spices seasonings</td>\n",
              "    </tr>\n",
              "    <tr>\n",
              "      <th>2</th>\n",
              "      <td>3</td>\n",
              "      <td>Robust Golden Unsweetened Oolong Tea</td>\n",
              "      <td>94</td>\n",
              "      <td>7</td>\n",
              "      <td>beverages</td>\n",
              "      <td>tea</td>\n",
              "    </tr>\n",
              "    <tr>\n",
              "      <th>3</th>\n",
              "      <td>4</td>\n",
              "      <td>Smart Ones Classic Favorites Mini Rigatoni Wit...</td>\n",
              "      <td>38</td>\n",
              "      <td>1</td>\n",
              "      <td>frozen</td>\n",
              "      <td>frozen meals</td>\n",
              "    </tr>\n",
              "    <tr>\n",
              "      <th>4</th>\n",
              "      <td>5</td>\n",
              "      <td>Green Chile Anytime Sauce</td>\n",
              "      <td>5</td>\n",
              "      <td>13</td>\n",
              "      <td>pantry</td>\n",
              "      <td>marinades meat preparation</td>\n",
              "    </tr>\n",
              "  </tbody>\n",
              "</table>\n",
              "</div>"
            ],
            "text/plain": [
              "   product_id  ...                       aisle\n",
              "0           1  ...               cookies cakes\n",
              "1           2  ...           spices seasonings\n",
              "2           3  ...                         tea\n",
              "3           4  ...                frozen meals\n",
              "4           5  ...  marinades meat preparation\n",
              "\n",
              "[5 rows x 6 columns]"
            ]
          },
          "metadata": {
            "tags": []
          },
          "execution_count": 34
        }
      ]
    },
    {
      "cell_type": "markdown",
      "metadata": {
        "id": "MYLPOjgfZCk0"
      },
      "source": [
        "What are the most common aisles and departments? Note: these are what the supermarket offers, not what is ordered."
      ]
    },
    {
      "cell_type": "code",
      "metadata": {
        "colab": {
          "base_uri": "https://localhost:8080/"
        },
        "id": "00J60_8_XnUq",
        "outputId": "83f4e897-ad39-4650-e41f-bd2136a6714d"
      },
      "source": [
        "cnt_aisle = prod_dept_aisle['aisle'].value_counts().reset_index().head(20)\n",
        "cnt_aisle.columns = ['aisle', 'count']\n",
        "cnt_aisle"
      ],
      "execution_count": null,
      "outputs": [
        {
          "output_type": "execute_result",
          "data": {
            "text/html": [
              "<div>\n",
              "<style scoped>\n",
              "    .dataframe tbody tr th:only-of-type {\n",
              "        vertical-align: middle;\n",
              "    }\n",
              "\n",
              "    .dataframe tbody tr th {\n",
              "        vertical-align: top;\n",
              "    }\n",
              "\n",
              "    .dataframe thead th {\n",
              "        text-align: right;\n",
              "    }\n",
              "</style>\n",
              "<table border=\"1\" class=\"dataframe\">\n",
              "  <thead>\n",
              "    <tr style=\"text-align: right;\">\n",
              "      <th></th>\n",
              "      <th>aisle</th>\n",
              "      <th>count</th>\n",
              "    </tr>\n",
              "  </thead>\n",
              "  <tbody>\n",
              "    <tr>\n",
              "      <th>0</th>\n",
              "      <td>missing</td>\n",
              "      <td>1258</td>\n",
              "    </tr>\n",
              "    <tr>\n",
              "      <th>1</th>\n",
              "      <td>candy chocolate</td>\n",
              "      <td>1246</td>\n",
              "    </tr>\n",
              "    <tr>\n",
              "      <th>2</th>\n",
              "      <td>ice cream ice</td>\n",
              "      <td>1091</td>\n",
              "    </tr>\n",
              "    <tr>\n",
              "      <th>3</th>\n",
              "      <td>vitamins supplements</td>\n",
              "      <td>1038</td>\n",
              "    </tr>\n",
              "    <tr>\n",
              "      <th>4</th>\n",
              "      <td>yogurt</td>\n",
              "      <td>1026</td>\n",
              "    </tr>\n",
              "    <tr>\n",
              "      <th>5</th>\n",
              "      <td>chips pretzels</td>\n",
              "      <td>989</td>\n",
              "    </tr>\n",
              "    <tr>\n",
              "      <th>6</th>\n",
              "      <td>tea</td>\n",
              "      <td>894</td>\n",
              "    </tr>\n",
              "    <tr>\n",
              "      <th>7</th>\n",
              "      <td>packaged cheese</td>\n",
              "      <td>891</td>\n",
              "    </tr>\n",
              "    <tr>\n",
              "      <th>8</th>\n",
              "      <td>frozen meals</td>\n",
              "      <td>880</td>\n",
              "    </tr>\n",
              "    <tr>\n",
              "      <th>9</th>\n",
              "      <td>cookies cakes</td>\n",
              "      <td>874</td>\n",
              "    </tr>\n",
              "    <tr>\n",
              "      <th>10</th>\n",
              "      <td>energy granola bars</td>\n",
              "      <td>832</td>\n",
              "    </tr>\n",
              "    <tr>\n",
              "      <th>11</th>\n",
              "      <td>hair care</td>\n",
              "      <td>816</td>\n",
              "    </tr>\n",
              "    <tr>\n",
              "      <th>12</th>\n",
              "      <td>spices seasonings</td>\n",
              "      <td>797</td>\n",
              "    </tr>\n",
              "    <tr>\n",
              "      <th>13</th>\n",
              "      <td>juice nectars</td>\n",
              "      <td>792</td>\n",
              "    </tr>\n",
              "    <tr>\n",
              "      <th>14</th>\n",
              "      <td>crackers</td>\n",
              "      <td>747</td>\n",
              "    </tr>\n",
              "    <tr>\n",
              "      <th>15</th>\n",
              "      <td>soup broth bouillon</td>\n",
              "      <td>737</td>\n",
              "    </tr>\n",
              "    <tr>\n",
              "      <th>16</th>\n",
              "      <td>baby food formula</td>\n",
              "      <td>718</td>\n",
              "    </tr>\n",
              "    <tr>\n",
              "      <th>17</th>\n",
              "      <td>coffee</td>\n",
              "      <td>680</td>\n",
              "    </tr>\n",
              "    <tr>\n",
              "      <th>18</th>\n",
              "      <td>refrigerated</td>\n",
              "      <td>675</td>\n",
              "    </tr>\n",
              "    <tr>\n",
              "      <th>19</th>\n",
              "      <td>cleaning products</td>\n",
              "      <td>655</td>\n",
              "    </tr>\n",
              "  </tbody>\n",
              "</table>\n",
              "</div>"
            ],
            "text/plain": [
              "                   aisle  count\n",
              "0                missing   1258\n",
              "1        candy chocolate   1246\n",
              "2          ice cream ice   1091\n",
              "3   vitamins supplements   1038\n",
              "4                 yogurt   1026\n",
              "5         chips pretzels    989\n",
              "6                    tea    894\n",
              "7        packaged cheese    891\n",
              "8           frozen meals    880\n",
              "9          cookies cakes    874\n",
              "10   energy granola bars    832\n",
              "11             hair care    816\n",
              "12     spices seasonings    797\n",
              "13         juice nectars    792\n",
              "14              crackers    747\n",
              "15   soup broth bouillon    737\n",
              "16     baby food formula    718\n",
              "17                coffee    680\n",
              "18          refrigerated    675\n",
              "19     cleaning products    655"
            ]
          },
          "metadata": {
            "tags": []
          },
          "execution_count": 35
        }
      ]
    },
    {
      "cell_type": "code",
      "metadata": {
        "colab": {
          "base_uri": "https://localhost:8080/"
        },
        "id": "iokLUxDVXux-",
        "outputId": "0a266ffc-d323-45bc-83c0-35eef5ef8a38"
      },
      "source": [
        "cnt_dept = prod_dept_aisle['department'].value_counts().reset_index()\n",
        "cnt_dept.columns = ['department', 'count']\n",
        "cnt_dept"
      ],
      "execution_count": null,
      "outputs": [
        {
          "output_type": "execute_result",
          "data": {
            "text/html": [
              "<div>\n",
              "<style scoped>\n",
              "    .dataframe tbody tr th:only-of-type {\n",
              "        vertical-align: middle;\n",
              "    }\n",
              "\n",
              "    .dataframe tbody tr th {\n",
              "        vertical-align: top;\n",
              "    }\n",
              "\n",
              "    .dataframe thead th {\n",
              "        text-align: right;\n",
              "    }\n",
              "</style>\n",
              "<table border=\"1\" class=\"dataframe\">\n",
              "  <thead>\n",
              "    <tr style=\"text-align: right;\">\n",
              "      <th></th>\n",
              "      <th>department</th>\n",
              "      <th>count</th>\n",
              "    </tr>\n",
              "  </thead>\n",
              "  <tbody>\n",
              "    <tr>\n",
              "      <th>0</th>\n",
              "      <td>personal care</td>\n",
              "      <td>6563</td>\n",
              "    </tr>\n",
              "    <tr>\n",
              "      <th>1</th>\n",
              "      <td>snacks</td>\n",
              "      <td>6264</td>\n",
              "    </tr>\n",
              "    <tr>\n",
              "      <th>2</th>\n",
              "      <td>pantry</td>\n",
              "      <td>5371</td>\n",
              "    </tr>\n",
              "    <tr>\n",
              "      <th>3</th>\n",
              "      <td>beverages</td>\n",
              "      <td>4365</td>\n",
              "    </tr>\n",
              "    <tr>\n",
              "      <th>4</th>\n",
              "      <td>frozen</td>\n",
              "      <td>4007</td>\n",
              "    </tr>\n",
              "    <tr>\n",
              "      <th>5</th>\n",
              "      <td>dairy eggs</td>\n",
              "      <td>3449</td>\n",
              "    </tr>\n",
              "    <tr>\n",
              "      <th>6</th>\n",
              "      <td>household</td>\n",
              "      <td>3085</td>\n",
              "    </tr>\n",
              "    <tr>\n",
              "      <th>7</th>\n",
              "      <td>canned goods</td>\n",
              "      <td>2092</td>\n",
              "    </tr>\n",
              "    <tr>\n",
              "      <th>8</th>\n",
              "      <td>dry goods pasta</td>\n",
              "      <td>1858</td>\n",
              "    </tr>\n",
              "    <tr>\n",
              "      <th>9</th>\n",
              "      <td>produce</td>\n",
              "      <td>1684</td>\n",
              "    </tr>\n",
              "    <tr>\n",
              "      <th>10</th>\n",
              "      <td>bakery</td>\n",
              "      <td>1516</td>\n",
              "    </tr>\n",
              "    <tr>\n",
              "      <th>11</th>\n",
              "      <td>deli</td>\n",
              "      <td>1322</td>\n",
              "    </tr>\n",
              "    <tr>\n",
              "      <th>12</th>\n",
              "      <td>missing</td>\n",
              "      <td>1258</td>\n",
              "    </tr>\n",
              "    <tr>\n",
              "      <th>13</th>\n",
              "      <td>international</td>\n",
              "      <td>1139</td>\n",
              "    </tr>\n",
              "    <tr>\n",
              "      <th>14</th>\n",
              "      <td>breakfast</td>\n",
              "      <td>1115</td>\n",
              "    </tr>\n",
              "    <tr>\n",
              "      <th>15</th>\n",
              "      <td>babies</td>\n",
              "      <td>1081</td>\n",
              "    </tr>\n",
              "    <tr>\n",
              "      <th>16</th>\n",
              "      <td>alcohol</td>\n",
              "      <td>1054</td>\n",
              "    </tr>\n",
              "    <tr>\n",
              "      <th>17</th>\n",
              "      <td>pets</td>\n",
              "      <td>972</td>\n",
              "    </tr>\n",
              "    <tr>\n",
              "      <th>18</th>\n",
              "      <td>meat seafood</td>\n",
              "      <td>907</td>\n",
              "    </tr>\n",
              "    <tr>\n",
              "      <th>19</th>\n",
              "      <td>other</td>\n",
              "      <td>548</td>\n",
              "    </tr>\n",
              "    <tr>\n",
              "      <th>20</th>\n",
              "      <td>bulk</td>\n",
              "      <td>38</td>\n",
              "    </tr>\n",
              "  </tbody>\n",
              "</table>\n",
              "</div>"
            ],
            "text/plain": [
              "         department  count\n",
              "0     personal care   6563\n",
              "1            snacks   6264\n",
              "2            pantry   5371\n",
              "3         beverages   4365\n",
              "4            frozen   4007\n",
              "5        dairy eggs   3449\n",
              "6         household   3085\n",
              "7      canned goods   2092\n",
              "8   dry goods pasta   1858\n",
              "9           produce   1684\n",
              "10           bakery   1516\n",
              "11             deli   1322\n",
              "12          missing   1258\n",
              "13    international   1139\n",
              "14        breakfast   1115\n",
              "15           babies   1081\n",
              "16          alcohol   1054\n",
              "17             pets    972\n",
              "18     meat seafood    907\n",
              "19            other    548\n",
              "20             bulk     38"
            ]
          },
          "metadata": {
            "tags": []
          },
          "execution_count": 36
        }
      ]
    },
    {
      "cell_type": "code",
      "metadata": {
        "colab": {
          "base_uri": "https://localhost:8080/"
        },
        "id": "UDCebhJkY7dM",
        "outputId": "8cf48a77-d2fa-4dfc-8285-bc71a5b68e78"
      },
      "source": [
        "cnt_dept.plot.bar(x = 'department', y = 'count', title = \"Frequency of Departments\")"
      ],
      "execution_count": null,
      "outputs": [
        {
          "output_type": "execute_result",
          "data": {
            "text/plain": [
              "<matplotlib.axes._subplots.AxesSubplot at 0x7fac7834e690>"
            ]
          },
          "metadata": {
            "tags": []
          },
          "execution_count": 37
        },
        {
          "output_type": "display_data",
          "data": {
            "image/png": "[encoded data removed]",
            "text/plain": [
              "<Figure size 432x288 with 1 Axes>"
            ]
          },
          "metadata": {
            "tags": [],
            "needs_background": "light"
          }
        }
      ]
    },
    {
      "cell_type": "code",
      "metadata": {
        "colab": {
          "base_uri": "https://localhost:8080/"
        },
        "id": "QWsaqbSAZIuP",
        "outputId": "cff7447e-576d-4b94-afc8-377a76419b6a"
      },
      "source": [
        "cnt_aisle.plot.bar(x = 'aisle', y = 'count', title = \"Frequency of Aisles\")"
      ],
      "execution_count": null,
      "outputs": [
        {
          "output_type": "execute_result",
          "data": {
            "text/plain": [
              "<matplotlib.axes._subplots.AxesSubplot at 0x7fac78258bd0>"
            ]
          },
          "metadata": {
            "tags": []
          },
          "execution_count": 38
        },
        {
          "output_type": "display_data",
          "data": {
            "image/png": "[encoded data removed]",
            "text/plain": [
              "<Figure size 432x288 with 1 Axes>"
            ]
          },
          "metadata": {
            "tags": [],
            "needs_background": "light"
          }
        }
      ]
    },
    {
      "cell_type": "markdown",
      "metadata": {
        "id": "li6ydTEZZrXn"
      },
      "source": [
        "Takeaways:\n",
        "\n",
        "\n",
        "*   1258 products have aisle of 'missing'\n",
        "*   The personal care, snacks, and pantry departments have the most items\n",
        "*   The candy chocolate, ice cream ice, and vitamin supplements aisles have the most product variety\n",
        "\n"
      ]
    },
    {
      "cell_type": "markdown",
      "metadata": {
        "id": "H2Xp53ENn3z4"
      },
      "source": [
        "## Orders"
      ]
    },
    {
      "cell_type": "code",
      "metadata": {
        "colab": {
          "base_uri": "https://localhost:8080/"
        },
        "id": "-fa0fx6IoHdB",
        "outputId": "84b0d3a3-43d5-4e3e-ca13-3df2ccd8d581"
      },
      "source": [
        "orders.info()"
      ],
      "execution_count": null,
      "outputs": [
        {
          "output_type": "stream",
          "text": [
            "<class 'pandas.core.frame.DataFrame'>\n",
            "RangeIndex: 3421083 entries, 0 to 3421082\n",
            "Data columns (total 7 columns):\n",
            " #   Column                  Dtype  \n",
            "---  ------                  -----  \n",
            " 0   order_id                int64  \n",
            " 1   user_id                 int64  \n",
            " 2   eval_set                object \n",
            " 3   order_number            int64  \n",
            " 4   order_dow               int64  \n",
            " 5   order_hour_of_day       int64  \n",
            " 6   days_since_prior_order  float64\n",
            "dtypes: float64(1), int64(5), object(1)\n",
            "memory usage: 182.7+ MB\n"
          ],
          "name": "stdout"
        }
      ]
    },
    {
      "cell_type": "code",
      "metadata": {
        "colab": {
          "base_uri": "https://localhost:8080/"
        },
        "id": "01DYTjbfPgaN",
        "outputId": "8f40d508-8be0-494a-f4b6-c4b5a35a7cfb"
      },
      "source": [
        "orders['days_since_prior_order'].describe()"
      ],
      "execution_count": null,
      "outputs": [
        {
          "output_type": "execute_result",
          "data": {
            "text/plain": [
              "count    3.214874e+06\n",
              "mean     1.111484e+01\n",
              "std      9.206737e+00\n",
              "min      0.000000e+00\n",
              "25%      4.000000e+00\n",
              "50%      7.000000e+00\n",
              "75%      1.500000e+01\n",
              "max      3.000000e+01\n",
              "Name: days_since_prior_order, dtype: float64"
            ]
          },
          "metadata": {
            "tags": []
          },
          "execution_count": 40
        }
      ]
    },
    {
      "cell_type": "code",
      "metadata": {
        "colab": {
          "base_uri": "https://localhost:8080/"
        },
        "id": "tNqx8AZHoG11",
        "outputId": "b0df7ae3-fd63-4cc1-803c-2ae2cf24467d"
      },
      "source": [
        "## check if there is any null value in Orders table\n",
        "orders.isnull().sum()"
      ],
      "execution_count": null,
      "outputs": [
        {
          "output_type": "execute_result",
          "data": {
            "text/plain": [
              "order_id                       0\n",
              "user_id                        0\n",
              "eval_set                       0\n",
              "order_number                   0\n",
              "order_dow                      0\n",
              "order_hour_of_day              0\n",
              "days_since_prior_order    206209\n",
              "dtype: int64"
            ]
          },
          "metadata": {
            "tags": []
          },
          "execution_count": 41
        }
      ]
    },
    {
      "cell_type": "markdown",
      "metadata": {
        "id": "KtA8Dnfuu9MH"
      },
      "source": [
        "### Order Time Exploration"
      ]
    },
    {
      "cell_type": "code",
      "metadata": {
        "colab": {
          "base_uri": "https://localhost:8080/",
          "height": 282
        },
        "id": "yseNZo8jqZDU",
        "outputId": "0e9a98ff-63e8-4c29-d37d-9ff1f9dd6156"
      },
      "source": [
        "## Check at which day of week do customer place orders\n",
        "## Most of the orders are placed at day 3 (Wednesday)\n",
        "orders.boxplot('order_dow')\n",
        "plt.title('Order placed by day of week')\n",
        "plt.ylabel('day of week')\n",
        "plt.show()"
      ],
      "execution_count": null,
      "outputs": [
        {
          "output_type": "display_data",
          "data": {
            "image/png": "[encoded data removed]",
            "text/plain": [
              "<Figure size 432x288 with 1 Axes>"
            ]
          },
          "metadata": {
            "tags": [],
            "needs_background": "light"
          }
        }
      ]
    },
    {
      "cell_type": "code",
      "metadata": {
        "colab": {
          "base_uri": "https://localhost:8080/",
          "height": 516
        },
        "id": "y83AgnrbVx1q",
        "outputId": "7ab075a6-430a-446d-9d68-54e2871dff02"
      },
      "source": [
        "# code borrowed from https://www.kaggle.com/sudalairajkumar/simple-exploration-notebook-instacart\n",
        "plt.figure(figsize=(12,8))\n",
        "sns.countplot(x = \"order_dow\", data = orders, color = color[0])\n",
        "plt.ylabel('Number of Orders', fontsize = 12)\n",
        "plt.xlabel('Day of Week', fontsize=12)\n",
        "plt.title(\"Orders placed by day of week\")\n",
        "plt.show()"
      ],
      "execution_count": null,
      "outputs": [
        {
          "output_type": "display_data",
          "data": {
            "image/png": "[encoded data removed]",
            "text/plain": [
              "<Figure size 864x576 with 1 Axes>"
            ]
          },
          "metadata": {
            "tags": [],
            "needs_background": "light"
          }
        }
      ]
    },
    {
      "cell_type": "markdown",
      "metadata": {
        "id": "YC_x-9ARWWnB"
      },
      "source": [
        "More orders are placed on days 0 and 1, which could represent the weekend."
      ]
    },
    {
      "cell_type": "code",
      "metadata": {
        "colab": {
          "base_uri": "https://localhost:8080/",
          "height": 296
        },
        "id": "EWJvQaHboFZ5",
        "outputId": "1a239b97-c703-40e1-a252-2478100eb821"
      },
      "source": [
        "## Check at what time do customers order the most\n",
        "## Most of the people place orders around 14:00 - 16:00\n",
        "orders.hist(column='order_hour_of_day')\n",
        "plt.title('Order placed by hour of day')\n",
        "plt.xlabel('order_hour_of_day')\n",
        "plt.ylabel('order_amount')\n",
        "plt.show()"
      ],
      "execution_count": null,
      "outputs": [
        {
          "output_type": "display_data",
          "data": {
            "image/png": "[encoded data removed]",
            "text/plain": [
              "<Figure size 432x288 with 1 Axes>"
            ]
          },
          "metadata": {
            "tags": [],
            "needs_background": "light"
          }
        }
      ]
    },
    {
      "cell_type": "code",
      "metadata": {
        "colab": {
          "base_uri": "https://localhost:8080/",
          "height": 513
        },
        "id": "j62CTDpnWivE",
        "outputId": "ab67b045-678d-4ae9-c95c-1da5c3835cd6"
      },
      "source": [
        "# code borrowed from https://www.kaggle.com/sudalairajkumar/simple-exploration-notebook-instacart\n",
        "plt.figure(figsize=(12,8))\n",
        "sns.countplot(x = 'order_hour_of_day', data = orders)\n",
        "plt.ylabel('Number of Orders')\n",
        "plt.xlabel('Hour of Day')\n",
        "plt.title('Orders placed by hour of day')\n",
        "plt.show()"
      ],
      "execution_count": null,
      "outputs": [
        {
          "output_type": "display_data",
          "data": {
            "image/png": "[encoded data removed]",
            "text/plain": [
              "<Figure size 864x576 with 1 Axes>"
            ]
          },
          "metadata": {
            "tags": [],
            "needs_background": "light"
          }
        }
      ]
    },
    {
      "cell_type": "markdown",
      "metadata": {
        "id": "K3vP5hQkW4Ce"
      },
      "source": [
        "Most of the orders are placed between 9am and 4pm."
      ]
    },
    {
      "cell_type": "code",
      "metadata": {
        "colab": {
          "base_uri": "https://localhost:8080/",
          "height": 405
        },
        "id": "MRasiuUtvYEF",
        "outputId": "20ae2215-55e8-47a8-f7a7-28c61657bde1"
      },
      "source": [
        "## Create a heat map to see Order Frequency of Day-of-Week vs Hour-of-day\n",
        "grouped_orders = orders.groupby([\"order_dow\", \"order_hour_of_day\"])[\"order_number\"].aggregate(\"count\").reset_index()\n",
        "grouped_orders = grouped_orders.pivot('order_dow', 'order_hour_of_day', 'order_number')\n",
        "\n",
        "plt.figure(figsize=(12,6))\n",
        "sns.heatmap(grouped_orders)\n",
        "plt.title(\"Order Frequency of Day-of-Week vs Hour-of-day\")\n",
        "plt.show()"
      ],
      "execution_count": null,
      "outputs": [
        {
          "output_type": "display_data",
          "data": {
            "image/png": "[encoded data removed]",
            "text/plain": [
              "<Figure size 864x432 with 2 Axes>"
            ]
          },
          "metadata": {
            "tags": [],
            "needs_background": "light"
          }
        }
      ]
    },
    {
      "cell_type": "code",
      "metadata": {
        "colab": {
          "base_uri": "https://localhost:8080/",
          "height": 350
        },
        "id": "QCCgCDIdolCa",
        "outputId": "3ff76a7e-c221-48ed-b254-5deaefa3e234"
      },
      "source": [
        "## Check how many days later customers returned after making the last purchase (only using the first 100 purchase or)\n",
        "## This is code is referred to one of the Kaggle competition participants: https://www.kaggle.com/katharinepires/association-rules-instacart-market-basket-analysis\n",
        "plt.figure(figsize = (20,5))\n",
        "plt.bar(range(100), orders.days_since_prior_order[:100] + 1)\n",
        "plt.title('Days since prior order')\n",
        "plt.xlabel('index')\n",
        "plt.ylabel('days since prior order + 1');"
      ],
      "execution_count": null,
      "outputs": [
        {
          "output_type": "display_data",
          "data": {
            "image/png": "[encoded data removed]",
            "text/plain": [
              "<Figure size 1440x360 with 1 Axes>"
            ]
          },
          "metadata": {
            "tags": [],
            "needs_background": "light"
          }
        }
      ]
    },
    {
      "cell_type": "code",
      "metadata": {
        "colab": {
          "base_uri": "https://localhost:8080/",
          "height": 513
        },
        "id": "_2TQ6hvQXG2O",
        "outputId": "2326856d-c14e-404b-a1bb-8f5cdf72df9b"
      },
      "source": [
        "# code borrowed from https://www.kaggle.com/sudalairajkumar/simple-exploration-notebook-instacart\n",
        "plt.figure(figsize=(12,8))\n",
        "sns.countplot(x = 'days_since_prior_order', data = orders)\n",
        "plt.ylabel(\"Number of Orders\")\n",
        "plt.xlabel('Days since prior order')\n",
        "plt.title(\"Frequency distribution by days since prior order\")\n",
        "plt.show()"
      ],
      "execution_count": null,
      "outputs": [
        {
          "output_type": "display_data",
          "data": {
            "image/png": "[encoded data removed]",
            "text/plain": [
              "<Figure size 864x576 with 1 Axes>"
            ]
          },
          "metadata": {
            "tags": [],
            "needs_background": "light"
          }
        }
      ]
    },
    {
      "cell_type": "markdown",
      "metadata": {
        "id": "NxSNHYXLXnVK"
      },
      "source": [
        "There appear to be two spikes: at the 7 day and 30 day mark which shows that customers typically reorder at the end of the week or end of the month."
      ]
    },
    {
      "cell_type": "markdown",
      "metadata": {
        "id": "AR9EVVa0up_1"
      },
      "source": [
        "### Train Test Split"
      ]
    },
    {
      "cell_type": "code",
      "metadata": {
        "colab": {
          "base_uri": "https://localhost:8080/"
        },
        "id": "C8E6gUPotAdV",
        "outputId": "8b0b4fa8-ace0-4738-da2b-ba2f830fe1f3"
      },
      "source": [
        "## Notice that the data has already been splitted into train and test data sets\n",
        "## There are 206209 customers in total, 131209 of which are used for train data and 75000 of which are used as test data set\n",
        "user_counts = orders.groupby('eval_set')['user_id'].count()\n",
        "user_counts"
      ],
      "execution_count": null,
      "outputs": [
        {
          "output_type": "execute_result",
          "data": {
            "text/plain": [
              "eval_set\n",
              "prior    3214874\n",
              "test       75000\n",
              "train     131209\n",
              "Name: user_id, dtype: int64"
            ]
          },
          "metadata": {
            "tags": []
          },
          "execution_count": 49
        }
      ]
    },
    {
      "cell_type": "markdown",
      "metadata": {
        "id": "GBBhxzDsw6qi"
      },
      "source": [
        "## Takeaways\n",
        "1. Most of the people place orders around 14:00 - 16:00\n",
        "2. Most of the people place orders around day 3 (Wednesday)\n",
        "3. Lots of missing data in day since last orders\n",
        "    * interpretation: lots of users are new users/data collection problems\n"
      ]
    },
    {
      "cell_type": "markdown",
      "metadata": {
        "id": "96OtMGPU3Dys"
      },
      "source": [
        "## Orders per customer"
      ]
    },
    {
      "cell_type": "code",
      "metadata": {
        "colab": {
          "base_uri": "https://localhost:8080/"
        },
        "id": "MmohquNa3Fdf",
        "outputId": "45355c76-f4cf-4d6f-ceb2-0395cce30a89"
      },
      "source": [
        "orders_per_cust = orders.groupby('user_id')['order_number'].count()\n",
        "orders_per_cust.head(10)"
      ],
      "execution_count": null,
      "outputs": [
        {
          "output_type": "execute_result",
          "data": {
            "text/plain": [
              "user_id\n",
              "1     11\n",
              "2     15\n",
              "3     13\n",
              "4      6\n",
              "5      5\n",
              "6      4\n",
              "7     21\n",
              "8      4\n",
              "9      4\n",
              "10     6\n",
              "Name: order_number, dtype: int64"
            ]
          },
          "metadata": {
            "tags": []
          },
          "execution_count": 50
        }
      ]
    },
    {
      "cell_type": "code",
      "metadata": {
        "colab": {
          "base_uri": "https://localhost:8080/"
        },
        "id": "k_1DQ4Iy4cRq",
        "outputId": "058626e7-d8ae-4427-c9df-31b19f3550b3"
      },
      "source": [
        "orders_per_cust.describe()"
      ],
      "execution_count": null,
      "outputs": [
        {
          "output_type": "execute_result",
          "data": {
            "text/plain": [
              "count    206209.000000\n",
              "mean         16.590367\n",
              "std          16.654774\n",
              "min           4.000000\n",
              "25%           6.000000\n",
              "50%          10.000000\n",
              "75%          20.000000\n",
              "max         100.000000\n",
              "Name: order_number, dtype: float64"
            ]
          },
          "metadata": {
            "tags": []
          },
          "execution_count": 51
        }
      ]
    },
    {
      "cell_type": "markdown",
      "metadata": {
        "id": "-Y9EOGxhxrh3"
      },
      "source": [
        "## Next Steps\n",
        "Feature Scaling and model building \n",
        "* Thoughts:\n",
        "Time series modeling?"
      ]
    },
    {
      "cell_type": "markdown",
      "metadata": {
        "id": "kcsfbdN0MYHq"
      },
      "source": [
        "### Segmentation thoughts\n",
        "1. By Recency \n",
        "2. By Frquency\n",
        "3. Average products per order\n",
        "4. We might divide at by department level"
      ]
    },
    {
      "cell_type": "markdown",
      "metadata": {
        "id": "XL6X-TewTWHW"
      },
      "source": [
        "# RFMP Analysis"
      ]
    },
    {
      "cell_type": "markdown",
      "metadata": {
        "id": "dWX1kNTGTeoP"
      },
      "source": [
        "By identifying customers' order recency, frequency, total products ordered, and product preferences, we can develop an analysis used to cluster customers into distinct segments. We can then use the segments for modeling.\n",
        "\n",
        "R - Recency\n",
        "\n",
        "F - Frequency\n",
        "\n",
        "M - Monetary Value (we lack this variable and so we'll substitute it with total products ordered)\n",
        "\n",
        "P - Product preferences determined by order composition by product category"
      ]
    },
    {
      "cell_type": "markdown",
      "metadata": {
        "id": "dKnS-Mw6tFMD"
      },
      "source": [
        "## Build RFM dataframe"
      ]
    },
    {
      "cell_type": "code",
      "metadata": {
        "colab": {
          "base_uri": "https://localhost:8080/"
        },
        "id": "w-iJHdlIYvuJ",
        "outputId": "e8125878-c03e-4f4b-d4e0-5cdfbda72917"
      },
      "source": [
        "# Verify that all NaN values in days_since_prior_order are associated with customers' first orders in period (order_number = 1)\n",
        "orders['order_number'][orders['days_since_prior_order'].isnull()].unique()"
      ],
      "execution_count": null,
      "outputs": [
        {
          "output_type": "execute_result",
          "data": {
            "text/plain": [
              "array([1])"
            ]
          },
          "metadata": {
            "tags": []
          },
          "execution_count": 52
        }
      ]
    },
    {
      "cell_type": "code",
      "metadata": {
        "colab": {
          "base_uri": "https://localhost:8080/"
        },
        "id": "fiv9QJWHTbCV",
        "outputId": "bd9a014a-6e09-4185-a24d-a477bf227585"
      },
      "source": [
        "# Find each customer's recency\n",
        "# Recency will be measured by the average value of 'days_since_prior_order'\n",
        "recency = orders.groupby(['user_id'])['days_since_prior_order'].mean()\n",
        "recency.head(10)"
      ],
      "execution_count": null,
      "outputs": [
        {
          "output_type": "execute_result",
          "data": {
            "text/plain": [
              "user_id\n",
              "1     19.000000\n",
              "2     16.285714\n",
              "3     12.000000\n",
              "4     17.000000\n",
              "5     11.500000\n",
              "6     13.333333\n",
              "7     10.450000\n",
              "8     23.333333\n",
              "9     22.000000\n",
              "10    21.800000\n",
              "Name: days_since_prior_order, dtype: float64"
            ]
          },
          "metadata": {
            "tags": []
          },
          "execution_count": 53
        }
      ]
    },
    {
      "cell_type": "code",
      "metadata": {
        "id": "kJzncQvJhPEQ"
      },
      "source": [
        "# Frequency = total orders per customer\n",
        "frequency = orders_per_cust"
      ],
      "execution_count": null,
      "outputs": []
    },
    {
      "cell_type": "code",
      "metadata": {
        "colab": {
          "base_uri": "https://localhost:8080/",
          "height": 390
        },
        "id": "QSzHfV_d4r1G",
        "outputId": "f27a1945-e905-4006-cd2a-d39c9d675b97"
      },
      "source": [
        "# Find total products ordered per customer\n",
        "total_products = orders_products_cust.groupby('user_id').count()\n",
        "total_products.head(10)"
      ],
      "execution_count": null,
      "outputs": [
        {
          "output_type": "execute_result",
          "data": {
            "text/html": [
              "<div>\n",
              "<style scoped>\n",
              "    .dataframe tbody tr th:only-of-type {\n",
              "        vertical-align: middle;\n",
              "    }\n",
              "\n",
              "    .dataframe tbody tr th {\n",
              "        vertical-align: top;\n",
              "    }\n",
              "\n",
              "    .dataframe thead th {\n",
              "        text-align: right;\n",
              "    }\n",
              "</style>\n",
              "<table border=\"1\" class=\"dataframe\">\n",
              "  <thead>\n",
              "    <tr style=\"text-align: right;\">\n",
              "      <th></th>\n",
              "      <th>order_id</th>\n",
              "      <th>product_id</th>\n",
              "      <th>add_to_cart_order</th>\n",
              "      <th>reordered</th>\n",
              "    </tr>\n",
              "    <tr>\n",
              "      <th>user_id</th>\n",
              "      <th></th>\n",
              "      <th></th>\n",
              "      <th></th>\n",
              "      <th></th>\n",
              "    </tr>\n",
              "  </thead>\n",
              "  <tbody>\n",
              "    <tr>\n",
              "      <th>1</th>\n",
              "      <td>70</td>\n",
              "      <td>70</td>\n",
              "      <td>70</td>\n",
              "      <td>70</td>\n",
              "    </tr>\n",
              "    <tr>\n",
              "      <th>2</th>\n",
              "      <td>226</td>\n",
              "      <td>226</td>\n",
              "      <td>226</td>\n",
              "      <td>226</td>\n",
              "    </tr>\n",
              "    <tr>\n",
              "      <th>3</th>\n",
              "      <td>88</td>\n",
              "      <td>88</td>\n",
              "      <td>88</td>\n",
              "      <td>88</td>\n",
              "    </tr>\n",
              "    <tr>\n",
              "      <th>4</th>\n",
              "      <td>18</td>\n",
              "      <td>18</td>\n",
              "      <td>18</td>\n",
              "      <td>18</td>\n",
              "    </tr>\n",
              "    <tr>\n",
              "      <th>5</th>\n",
              "      <td>46</td>\n",
              "      <td>46</td>\n",
              "      <td>46</td>\n",
              "      <td>46</td>\n",
              "    </tr>\n",
              "    <tr>\n",
              "      <th>6</th>\n",
              "      <td>14</td>\n",
              "      <td>14</td>\n",
              "      <td>14</td>\n",
              "      <td>14</td>\n",
              "    </tr>\n",
              "    <tr>\n",
              "      <th>7</th>\n",
              "      <td>215</td>\n",
              "      <td>215</td>\n",
              "      <td>215</td>\n",
              "      <td>215</td>\n",
              "    </tr>\n",
              "    <tr>\n",
              "      <th>8</th>\n",
              "      <td>67</td>\n",
              "      <td>67</td>\n",
              "      <td>67</td>\n",
              "      <td>67</td>\n",
              "    </tr>\n",
              "    <tr>\n",
              "      <th>9</th>\n",
              "      <td>98</td>\n",
              "      <td>98</td>\n",
              "      <td>98</td>\n",
              "      <td>98</td>\n",
              "    </tr>\n",
              "    <tr>\n",
              "      <th>10</th>\n",
              "      <td>147</td>\n",
              "      <td>147</td>\n",
              "      <td>147</td>\n",
              "      <td>147</td>\n",
              "    </tr>\n",
              "  </tbody>\n",
              "</table>\n",
              "</div>"
            ],
            "text/plain": [
              "         order_id  product_id  add_to_cart_order  reordered\n",
              "user_id                                                    \n",
              "1              70          70                 70         70\n",
              "2             226         226                226        226\n",
              "3              88          88                 88         88\n",
              "4              18          18                 18         18\n",
              "5              46          46                 46         46\n",
              "6              14          14                 14         14\n",
              "7             215         215                215        215\n",
              "8              67          67                 67         67\n",
              "9              98          98                 98         98\n",
              "10            147         147                147        147"
            ]
          },
          "metadata": {
            "tags": []
          },
          "execution_count": 55
        }
      ]
    },
    {
      "cell_type": "code",
      "metadata": {
        "colab": {
          "base_uri": "https://localhost:8080/",
          "height": 359
        },
        "id": "0ZRdDQFA42Nd",
        "outputId": "1ae354a6-f193-41d8-bb7d-24e5674ea804"
      },
      "source": [
        "orders_products_cust.head(10)"
      ],
      "execution_count": null,
      "outputs": [
        {
          "output_type": "execute_result",
          "data": {
            "text/html": [
              "<div>\n",
              "<style scoped>\n",
              "    .dataframe tbody tr th:only-of-type {\n",
              "        vertical-align: middle;\n",
              "    }\n",
              "\n",
              "    .dataframe tbody tr th {\n",
              "        vertical-align: top;\n",
              "    }\n",
              "\n",
              "    .dataframe thead th {\n",
              "        text-align: right;\n",
              "    }\n",
              "</style>\n",
              "<table border=\"1\" class=\"dataframe\">\n",
              "  <thead>\n",
              "    <tr style=\"text-align: right;\">\n",
              "      <th></th>\n",
              "      <th>order_id</th>\n",
              "      <th>product_id</th>\n",
              "      <th>add_to_cart_order</th>\n",
              "      <th>reordered</th>\n",
              "      <th>user_id</th>\n",
              "    </tr>\n",
              "  </thead>\n",
              "  <tbody>\n",
              "    <tr>\n",
              "      <th>0</th>\n",
              "      <td>2</td>\n",
              "      <td>33120</td>\n",
              "      <td>1</td>\n",
              "      <td>1</td>\n",
              "      <td>202279</td>\n",
              "    </tr>\n",
              "    <tr>\n",
              "      <th>1</th>\n",
              "      <td>2</td>\n",
              "      <td>28985</td>\n",
              "      <td>2</td>\n",
              "      <td>1</td>\n",
              "      <td>202279</td>\n",
              "    </tr>\n",
              "    <tr>\n",
              "      <th>2</th>\n",
              "      <td>2</td>\n",
              "      <td>9327</td>\n",
              "      <td>3</td>\n",
              "      <td>0</td>\n",
              "      <td>202279</td>\n",
              "    </tr>\n",
              "    <tr>\n",
              "      <th>3</th>\n",
              "      <td>2</td>\n",
              "      <td>45918</td>\n",
              "      <td>4</td>\n",
              "      <td>1</td>\n",
              "      <td>202279</td>\n",
              "    </tr>\n",
              "    <tr>\n",
              "      <th>4</th>\n",
              "      <td>2</td>\n",
              "      <td>30035</td>\n",
              "      <td>5</td>\n",
              "      <td>0</td>\n",
              "      <td>202279</td>\n",
              "    </tr>\n",
              "    <tr>\n",
              "      <th>5</th>\n",
              "      <td>2</td>\n",
              "      <td>17794</td>\n",
              "      <td>6</td>\n",
              "      <td>1</td>\n",
              "      <td>202279</td>\n",
              "    </tr>\n",
              "    <tr>\n",
              "      <th>6</th>\n",
              "      <td>2</td>\n",
              "      <td>40141</td>\n",
              "      <td>7</td>\n",
              "      <td>1</td>\n",
              "      <td>202279</td>\n",
              "    </tr>\n",
              "    <tr>\n",
              "      <th>7</th>\n",
              "      <td>2</td>\n",
              "      <td>1819</td>\n",
              "      <td>8</td>\n",
              "      <td>1</td>\n",
              "      <td>202279</td>\n",
              "    </tr>\n",
              "    <tr>\n",
              "      <th>8</th>\n",
              "      <td>2</td>\n",
              "      <td>43668</td>\n",
              "      <td>9</td>\n",
              "      <td>0</td>\n",
              "      <td>202279</td>\n",
              "    </tr>\n",
              "    <tr>\n",
              "      <th>9</th>\n",
              "      <td>3</td>\n",
              "      <td>33754</td>\n",
              "      <td>1</td>\n",
              "      <td>1</td>\n",
              "      <td>205970</td>\n",
              "    </tr>\n",
              "  </tbody>\n",
              "</table>\n",
              "</div>"
            ],
            "text/plain": [
              "   order_id  product_id  add_to_cart_order  reordered  user_id\n",
              "0         2       33120                  1          1   202279\n",
              "1         2       28985                  2          1   202279\n",
              "2         2        9327                  3          0   202279\n",
              "3         2       45918                  4          1   202279\n",
              "4         2       30035                  5          0   202279\n",
              "5         2       17794                  6          1   202279\n",
              "6         2       40141                  7          1   202279\n",
              "7         2        1819                  8          1   202279\n",
              "8         2       43668                  9          0   202279\n",
              "9         3       33754                  1          1   205970"
            ]
          },
          "metadata": {
            "tags": []
          },
          "execution_count": 56
        }
      ]
    },
    {
      "cell_type": "code",
      "metadata": {
        "colab": {
          "base_uri": "https://localhost:8080/",
          "height": 359
        },
        "id": "Kj-DgfKnxJ6G",
        "outputId": "4c198cd7-b0e4-4aa6-c033-51652504fce0"
      },
      "source": [
        "prod_dept_aisle.head(10)"
      ],
      "execution_count": null,
      "outputs": [
        {
          "output_type": "execute_result",
          "data": {
            "text/html": [
              "<div>\n",
              "<style scoped>\n",
              "    .dataframe tbody tr th:only-of-type {\n",
              "        vertical-align: middle;\n",
              "    }\n",
              "\n",
              "    .dataframe tbody tr th {\n",
              "        vertical-align: top;\n",
              "    }\n",
              "\n",
              "    .dataframe thead th {\n",
              "        text-align: right;\n",
              "    }\n",
              "</style>\n",
              "<table border=\"1\" class=\"dataframe\">\n",
              "  <thead>\n",
              "    <tr style=\"text-align: right;\">\n",
              "      <th></th>\n",
              "      <th>product_id</th>\n",
              "      <th>product_name</th>\n",
              "      <th>aisle_id</th>\n",
              "      <th>department_id</th>\n",
              "      <th>department</th>\n",
              "      <th>aisle</th>\n",
              "    </tr>\n",
              "  </thead>\n",
              "  <tbody>\n",
              "    <tr>\n",
              "      <th>0</th>\n",
              "      <td>1</td>\n",
              "      <td>Chocolate Sandwich Cookies</td>\n",
              "      <td>61</td>\n",
              "      <td>19</td>\n",
              "      <td>snacks</td>\n",
              "      <td>cookies cakes</td>\n",
              "    </tr>\n",
              "    <tr>\n",
              "      <th>1</th>\n",
              "      <td>2</td>\n",
              "      <td>All-Seasons Salt</td>\n",
              "      <td>104</td>\n",
              "      <td>13</td>\n",
              "      <td>pantry</td>\n",
              "      <td>spices seasonings</td>\n",
              "    </tr>\n",
              "    <tr>\n",
              "      <th>2</th>\n",
              "      <td>3</td>\n",
              "      <td>Robust Golden Unsweetened Oolong Tea</td>\n",
              "      <td>94</td>\n",
              "      <td>7</td>\n",
              "      <td>beverages</td>\n",
              "      <td>tea</td>\n",
              "    </tr>\n",
              "    <tr>\n",
              "      <th>3</th>\n",
              "      <td>4</td>\n",
              "      <td>Smart Ones Classic Favorites Mini Rigatoni Wit...</td>\n",
              "      <td>38</td>\n",
              "      <td>1</td>\n",
              "      <td>frozen</td>\n",
              "      <td>frozen meals</td>\n",
              "    </tr>\n",
              "    <tr>\n",
              "      <th>4</th>\n",
              "      <td>5</td>\n",
              "      <td>Green Chile Anytime Sauce</td>\n",
              "      <td>5</td>\n",
              "      <td>13</td>\n",
              "      <td>pantry</td>\n",
              "      <td>marinades meat preparation</td>\n",
              "    </tr>\n",
              "    <tr>\n",
              "      <th>5</th>\n",
              "      <td>6</td>\n",
              "      <td>Dry Nose Oil</td>\n",
              "      <td>11</td>\n",
              "      <td>11</td>\n",
              "      <td>personal care</td>\n",
              "      <td>cold flu allergy</td>\n",
              "    </tr>\n",
              "    <tr>\n",
              "      <th>6</th>\n",
              "      <td>7</td>\n",
              "      <td>Pure Coconut Water With Orange</td>\n",
              "      <td>98</td>\n",
              "      <td>7</td>\n",
              "      <td>beverages</td>\n",
              "      <td>juice nectars</td>\n",
              "    </tr>\n",
              "    <tr>\n",
              "      <th>7</th>\n",
              "      <td>8</td>\n",
              "      <td>Cut Russet Potatoes Steam N' Mash</td>\n",
              "      <td>116</td>\n",
              "      <td>1</td>\n",
              "      <td>frozen</td>\n",
              "      <td>frozen produce</td>\n",
              "    </tr>\n",
              "    <tr>\n",
              "      <th>8</th>\n",
              "      <td>9</td>\n",
              "      <td>Light Strawberry Blueberry Yogurt</td>\n",
              "      <td>120</td>\n",
              "      <td>16</td>\n",
              "      <td>dairy eggs</td>\n",
              "      <td>yogurt</td>\n",
              "    </tr>\n",
              "    <tr>\n",
              "      <th>9</th>\n",
              "      <td>10</td>\n",
              "      <td>Sparkling Orange Juice &amp; Prickly Pear Beverage</td>\n",
              "      <td>115</td>\n",
              "      <td>7</td>\n",
              "      <td>beverages</td>\n",
              "      <td>water seltzer sparkling water</td>\n",
              "    </tr>\n",
              "  </tbody>\n",
              "</table>\n",
              "</div>"
            ],
            "text/plain": [
              "   product_id  ...                          aisle\n",
              "0           1  ...                  cookies cakes\n",
              "1           2  ...              spices seasonings\n",
              "2           3  ...                            tea\n",
              "3           4  ...                   frozen meals\n",
              "4           5  ...     marinades meat preparation\n",
              "5           6  ...               cold flu allergy\n",
              "6           7  ...                  juice nectars\n",
              "7           8  ...                 frozen produce\n",
              "8           9  ...                         yogurt\n",
              "9          10  ...  water seltzer sparkling water\n",
              "\n",
              "[10 rows x 6 columns]"
            ]
          },
          "metadata": {
            "tags": []
          },
          "execution_count": 57
        }
      ]
    },
    {
      "cell_type": "markdown",
      "metadata": {
        "id": "Wh0-9sXOs_iX"
      },
      "source": [
        "## Categorize products into 3 major groups according to department"
      ]
    },
    {
      "cell_type": "code",
      "metadata": {
        "colab": {
          "base_uri": "https://localhost:8080/"
        },
        "id": "LwDOIxDrs315",
        "outputId": "929b75fd-7192-4dd4-b6ec-bce15fa3c3f2"
      },
      "source": [
        "prod_dept_aisle['department'].unique()"
      ],
      "execution_count": null,
      "outputs": [
        {
          "output_type": "execute_result",
          "data": {
            "text/plain": [
              "array(['snacks', 'pantry', 'beverages', 'frozen', 'personal care',\n",
              "       'dairy eggs', 'household', 'babies', 'meat seafood',\n",
              "       'dry goods pasta', 'pets', 'breakfast', 'canned goods', 'produce',\n",
              "       'missing', 'international', 'deli', 'alcohol', 'bakery', 'other',\n",
              "       'bulk'], dtype=object)"
            ]
          },
          "metadata": {
            "tags": []
          },
          "execution_count": 58
        }
      ]
    },
    {
      "cell_type": "markdown",
      "metadata": {
        "id": "W-pxgddJtLQg"
      },
      "source": [
        "Product group 1: Perishable goods (frozen, dairy eggs, meat seafood, produce, deli, bakery\n",
        "\n",
        "Product group 2: Shelf-stable goods (snacks, pantry, beverages, dry goods pasta, breakfast, canned goods, alcohol, bulk, international)\n",
        "\n",
        "Product group 3: Non-edible items (personal care, household, babies, pets, missing, other)"
      ]
    },
    {
      "cell_type": "code",
      "metadata": {
        "id": "reaemt19udEy"
      },
      "source": [
        "pg1 = ['frozen','dairy eggs','meat seafood','produce','deli','bakery']\n",
        "pg2 = ['snacks','pantry','beverages','dry goods pasta','breakfast','canned goods','alcohol','bulk','international']\n",
        "pg3 = ['personal care','household','babies','pets','missing','other']"
      ],
      "execution_count": null,
      "outputs": []
    },
    {
      "cell_type": "code",
      "metadata": {
        "id": "fycGFWH5mId1"
      },
      "source": [
        "prod_dept_aisle['pg1'] = np.where(prod_dept_aisle['department'].isin(pg1), 1, 0)\n",
        "prod_dept_aisle['pg2'] = np.where(prod_dept_aisle['department'].isin(pg2), 1, 0)\n",
        "prod_dept_aisle['pg3'] = np.where(prod_dept_aisle['department'].isin(pg3), 1, 0)"
      ],
      "execution_count": null,
      "outputs": []
    },
    {
      "cell_type": "code",
      "metadata": {
        "colab": {
          "base_uri": "https://localhost:8080/",
          "height": 359
        },
        "id": "QygWs6QosX_O",
        "outputId": "5de8a3a5-fd77-48b4-c3fd-9a0f2e5d3f09"
      },
      "source": [
        "prod_dept_aisle.head(10)"
      ],
      "execution_count": null,
      "outputs": [
        {
          "output_type": "execute_result",
          "data": {
            "text/html": [
              "<div>\n",
              "<style scoped>\n",
              "    .dataframe tbody tr th:only-of-type {\n",
              "        vertical-align: middle;\n",
              "    }\n",
              "\n",
              "    .dataframe tbody tr th {\n",
              "        vertical-align: top;\n",
              "    }\n",
              "\n",
              "    .dataframe thead th {\n",
              "        text-align: right;\n",
              "    }\n",
              "</style>\n",
              "<table border=\"1\" class=\"dataframe\">\n",
              "  <thead>\n",
              "    <tr style=\"text-align: right;\">\n",
              "      <th></th>\n",
              "      <th>product_id</th>\n",
              "      <th>product_name</th>\n",
              "      <th>aisle_id</th>\n",
              "      <th>department_id</th>\n",
              "      <th>department</th>\n",
              "      <th>aisle</th>\n",
              "      <th>pg1</th>\n",
              "      <th>pg2</th>\n",
              "      <th>pg3</th>\n",
              "    </tr>\n",
              "  </thead>\n",
              "  <tbody>\n",
              "    <tr>\n",
              "      <th>0</th>\n",
              "      <td>1</td>\n",
              "      <td>Chocolate Sandwich Cookies</td>\n",
              "      <td>61</td>\n",
              "      <td>19</td>\n",
              "      <td>snacks</td>\n",
              "      <td>cookies cakes</td>\n",
              "      <td>0</td>\n",
              "      <td>1</td>\n",
              "      <td>0</td>\n",
              "    </tr>\n",
              "    <tr>\n",
              "      <th>1</th>\n",
              "      <td>2</td>\n",
              "      <td>All-Seasons Salt</td>\n",
              "      <td>104</td>\n",
              "      <td>13</td>\n",
              "      <td>pantry</td>\n",
              "      <td>spices seasonings</td>\n",
              "      <td>0</td>\n",
              "      <td>1</td>\n",
              "      <td>0</td>\n",
              "    </tr>\n",
              "    <tr>\n",
              "      <th>2</th>\n",
              "      <td>3</td>\n",
              "      <td>Robust Golden Unsweetened Oolong Tea</td>\n",
              "      <td>94</td>\n",
              "      <td>7</td>\n",
              "      <td>beverages</td>\n",
              "      <td>tea</td>\n",
              "      <td>0</td>\n",
              "      <td>1</td>\n",
              "      <td>0</td>\n",
              "    </tr>\n",
              "    <tr>\n",
              "      <th>3</th>\n",
              "      <td>4</td>\n",
              "      <td>Smart Ones Classic Favorites Mini Rigatoni Wit...</td>\n",
              "      <td>38</td>\n",
              "      <td>1</td>\n",
              "      <td>frozen</td>\n",
              "      <td>frozen meals</td>\n",
              "      <td>1</td>\n",
              "      <td>0</td>\n",
              "      <td>0</td>\n",
              "    </tr>\n",
              "    <tr>\n",
              "      <th>4</th>\n",
              "      <td>5</td>\n",
              "      <td>Green Chile Anytime Sauce</td>\n",
              "      <td>5</td>\n",
              "      <td>13</td>\n",
              "      <td>pantry</td>\n",
              "      <td>marinades meat preparation</td>\n",
              "      <td>0</td>\n",
              "      <td>1</td>\n",
              "      <td>0</td>\n",
              "    </tr>\n",
              "    <tr>\n",
              "      <th>5</th>\n",
              "      <td>6</td>\n",
              "      <td>Dry Nose Oil</td>\n",
              "      <td>11</td>\n",
              "      <td>11</td>\n",
              "      <td>personal care</td>\n",
              "      <td>cold flu allergy</td>\n",
              "      <td>0</td>\n",
              "      <td>0</td>\n",
              "      <td>1</td>\n",
              "    </tr>\n",
              "    <tr>\n",
              "      <th>6</th>\n",
              "      <td>7</td>\n",
              "      <td>Pure Coconut Water With Orange</td>\n",
              "      <td>98</td>\n",
              "      <td>7</td>\n",
              "      <td>beverages</td>\n",
              "      <td>juice nectars</td>\n",
              "      <td>0</td>\n",
              "      <td>1</td>\n",
              "      <td>0</td>\n",
              "    </tr>\n",
              "    <tr>\n",
              "      <th>7</th>\n",
              "      <td>8</td>\n",
              "      <td>Cut Russet Potatoes Steam N' Mash</td>\n",
              "      <td>116</td>\n",
              "      <td>1</td>\n",
              "      <td>frozen</td>\n",
              "      <td>frozen produce</td>\n",
              "      <td>1</td>\n",
              "      <td>0</td>\n",
              "      <td>0</td>\n",
              "    </tr>\n",
              "    <tr>\n",
              "      <th>8</th>\n",
              "      <td>9</td>\n",
              "      <td>Light Strawberry Blueberry Yogurt</td>\n",
              "      <td>120</td>\n",
              "      <td>16</td>\n",
              "      <td>dairy eggs</td>\n",
              "      <td>yogurt</td>\n",
              "      <td>1</td>\n",
              "      <td>0</td>\n",
              "      <td>0</td>\n",
              "    </tr>\n",
              "    <tr>\n",
              "      <th>9</th>\n",
              "      <td>10</td>\n",
              "      <td>Sparkling Orange Juice &amp; Prickly Pear Beverage</td>\n",
              "      <td>115</td>\n",
              "      <td>7</td>\n",
              "      <td>beverages</td>\n",
              "      <td>water seltzer sparkling water</td>\n",
              "      <td>0</td>\n",
              "      <td>1</td>\n",
              "      <td>0</td>\n",
              "    </tr>\n",
              "  </tbody>\n",
              "</table>\n",
              "</div>"
            ],
            "text/plain": [
              "   product_id                                       product_name  ...  pg2  pg3\n",
              "0           1                         Chocolate Sandwich Cookies  ...    1    0\n",
              "1           2                                   All-Seasons Salt  ...    1    0\n",
              "2           3               Robust Golden Unsweetened Oolong Tea  ...    1    0\n",
              "3           4  Smart Ones Classic Favorites Mini Rigatoni Wit...  ...    0    0\n",
              "4           5                          Green Chile Anytime Sauce  ...    1    0\n",
              "5           6                                       Dry Nose Oil  ...    0    1\n",
              "6           7                     Pure Coconut Water With Orange  ...    1    0\n",
              "7           8                  Cut Russet Potatoes Steam N' Mash  ...    0    0\n",
              "8           9                  Light Strawberry Blueberry Yogurt  ...    0    0\n",
              "9          10     Sparkling Orange Juice & Prickly Pear Beverage  ...    1    0\n",
              "\n",
              "[10 rows x 9 columns]"
            ]
          },
          "metadata": {
            "tags": []
          },
          "execution_count": 61
        }
      ]
    },
    {
      "cell_type": "code",
      "metadata": {
        "id": "LL6YuArvyuJf"
      },
      "source": [
        "# Insert product group columns into orders_products_cust\n",
        "orders_products_cust = orders_products_cust.merge(prod_dept_aisle[['product_id','pg1','pg2','pg3']], on = ['product_id'])"
      ],
      "execution_count": null,
      "outputs": []
    },
    {
      "cell_type": "code",
      "metadata": {
        "colab": {
          "base_uri": "https://localhost:8080/",
          "height": 359
        },
        "id": "TCjEt0N-y_6f",
        "outputId": "68308708-59ac-4259-954d-61a6f38feeb9"
      },
      "source": [
        "orders_products_cust.head(10)"
      ],
      "execution_count": null,
      "outputs": [
        {
          "output_type": "execute_result",
          "data": {
            "text/html": [
              "<div>\n",
              "<style scoped>\n",
              "    .dataframe tbody tr th:only-of-type {\n",
              "        vertical-align: middle;\n",
              "    }\n",
              "\n",
              "    .dataframe tbody tr th {\n",
              "        vertical-align: top;\n",
              "    }\n",
              "\n",
              "    .dataframe thead th {\n",
              "        text-align: right;\n",
              "    }\n",
              "</style>\n",
              "<table border=\"1\" class=\"dataframe\">\n",
              "  <thead>\n",
              "    <tr style=\"text-align: right;\">\n",
              "      <th></th>\n",
              "      <th>order_id</th>\n",
              "      <th>product_id</th>\n",
              "      <th>add_to_cart_order</th>\n",
              "      <th>reordered</th>\n",
              "      <th>user_id</th>\n",
              "      <th>pg1</th>\n",
              "      <th>pg2</th>\n",
              "      <th>pg3</th>\n",
              "    </tr>\n",
              "  </thead>\n",
              "  <tbody>\n",
              "    <tr>\n",
              "      <th>0</th>\n",
              "      <td>2</td>\n",
              "      <td>33120</td>\n",
              "      <td>1</td>\n",
              "      <td>1</td>\n",
              "      <td>202279</td>\n",
              "      <td>1</td>\n",
              "      <td>0</td>\n",
              "      <td>0</td>\n",
              "    </tr>\n",
              "    <tr>\n",
              "      <th>1</th>\n",
              "      <td>26</td>\n",
              "      <td>33120</td>\n",
              "      <td>5</td>\n",
              "      <td>0</td>\n",
              "      <td>153404</td>\n",
              "      <td>1</td>\n",
              "      <td>0</td>\n",
              "      <td>0</td>\n",
              "    </tr>\n",
              "    <tr>\n",
              "      <th>2</th>\n",
              "      <td>120</td>\n",
              "      <td>33120</td>\n",
              "      <td>13</td>\n",
              "      <td>0</td>\n",
              "      <td>23750</td>\n",
              "      <td>1</td>\n",
              "      <td>0</td>\n",
              "      <td>0</td>\n",
              "    </tr>\n",
              "    <tr>\n",
              "      <th>3</th>\n",
              "      <td>327</td>\n",
              "      <td>33120</td>\n",
              "      <td>5</td>\n",
              "      <td>1</td>\n",
              "      <td>58707</td>\n",
              "      <td>1</td>\n",
              "      <td>0</td>\n",
              "      <td>0</td>\n",
              "    </tr>\n",
              "    <tr>\n",
              "      <th>4</th>\n",
              "      <td>390</td>\n",
              "      <td>33120</td>\n",
              "      <td>28</td>\n",
              "      <td>1</td>\n",
              "      <td>166654</td>\n",
              "      <td>1</td>\n",
              "      <td>0</td>\n",
              "      <td>0</td>\n",
              "    </tr>\n",
              "    <tr>\n",
              "      <th>5</th>\n",
              "      <td>537</td>\n",
              "      <td>33120</td>\n",
              "      <td>2</td>\n",
              "      <td>1</td>\n",
              "      <td>180135</td>\n",
              "      <td>1</td>\n",
              "      <td>0</td>\n",
              "      <td>0</td>\n",
              "    </tr>\n",
              "    <tr>\n",
              "      <th>6</th>\n",
              "      <td>582</td>\n",
              "      <td>33120</td>\n",
              "      <td>7</td>\n",
              "      <td>1</td>\n",
              "      <td>193223</td>\n",
              "      <td>1</td>\n",
              "      <td>0</td>\n",
              "      <td>0</td>\n",
              "    </tr>\n",
              "    <tr>\n",
              "      <th>7</th>\n",
              "      <td>608</td>\n",
              "      <td>33120</td>\n",
              "      <td>5</td>\n",
              "      <td>1</td>\n",
              "      <td>91030</td>\n",
              "      <td>1</td>\n",
              "      <td>0</td>\n",
              "      <td>0</td>\n",
              "    </tr>\n",
              "    <tr>\n",
              "      <th>8</th>\n",
              "      <td>623</td>\n",
              "      <td>33120</td>\n",
              "      <td>1</td>\n",
              "      <td>1</td>\n",
              "      <td>37804</td>\n",
              "      <td>1</td>\n",
              "      <td>0</td>\n",
              "      <td>0</td>\n",
              "    </tr>\n",
              "    <tr>\n",
              "      <th>9</th>\n",
              "      <td>689</td>\n",
              "      <td>33120</td>\n",
              "      <td>4</td>\n",
              "      <td>1</td>\n",
              "      <td>108932</td>\n",
              "      <td>1</td>\n",
              "      <td>0</td>\n",
              "      <td>0</td>\n",
              "    </tr>\n",
              "  </tbody>\n",
              "</table>\n",
              "</div>"
            ],
            "text/plain": [
              "   order_id  product_id  add_to_cart_order  reordered  user_id  pg1  pg2  pg3\n",
              "0         2       33120                  1          1   202279    1    0    0\n",
              "1        26       33120                  5          0   153404    1    0    0\n",
              "2       120       33120                 13          0    23750    1    0    0\n",
              "3       327       33120                  5          1    58707    1    0    0\n",
              "4       390       33120                 28          1   166654    1    0    0\n",
              "5       537       33120                  2          1   180135    1    0    0\n",
              "6       582       33120                  7          1   193223    1    0    0\n",
              "7       608       33120                  5          1    91030    1    0    0\n",
              "8       623       33120                  1          1    37804    1    0    0\n",
              "9       689       33120                  4          1   108932    1    0    0"
            ]
          },
          "metadata": {
            "tags": []
          },
          "execution_count": 63
        }
      ]
    },
    {
      "cell_type": "code",
      "metadata": {
        "colab": {
          "base_uri": "https://localhost:8080/"
        },
        "id": "y1jFoyosVKWC",
        "outputId": "359f9d3b-b153-4b65-8818-17fffcece5e5"
      },
      "source": [
        "# Add up counts of each group for each customer\n",
        "pgcounts = orders_products_cust.groupby('user_id').agg({'pg1': ['sum'], 'pg2': ['sum'], 'pg3': ['sum']})\n",
        "pgcounts = pgcounts.merge(total_products[['product_id']], on = ['user_id'])"
      ],
      "execution_count": null,
      "outputs": [
        {
          "output_type": "stream",
          "text": [
            "/usr/local/lib/python3.7/dist-packages/pandas/core/reshape/merge.py:643: UserWarning: merging between different levels can give an unintended result (2 levels on the left,1 on the right)\n",
            "  warnings.warn(msg, UserWarning)\n"
          ],
          "name": "stderr"
        }
      ]
    },
    {
      "cell_type": "code",
      "metadata": {
        "colab": {
          "base_uri": "https://localhost:8080/",
          "height": 390
        },
        "id": "8v9ugJePXCaf",
        "outputId": "761f6190-9d0a-411c-e259-1557558b9860"
      },
      "source": [
        "pgcounts.head(10)"
      ],
      "execution_count": null,
      "outputs": [
        {
          "output_type": "execute_result",
          "data": {
            "text/html": [
              "<div>\n",
              "<style scoped>\n",
              "    .dataframe tbody tr th:only-of-type {\n",
              "        vertical-align: middle;\n",
              "    }\n",
              "\n",
              "    .dataframe tbody tr th {\n",
              "        vertical-align: top;\n",
              "    }\n",
              "\n",
              "    .dataframe thead th {\n",
              "        text-align: right;\n",
              "    }\n",
              "</style>\n",
              "<table border=\"1\" class=\"dataframe\">\n",
              "  <thead>\n",
              "    <tr style=\"text-align: right;\">\n",
              "      <th></th>\n",
              "      <th>(pg1, sum)</th>\n",
              "      <th>(pg2, sum)</th>\n",
              "      <th>(pg3, sum)</th>\n",
              "      <th>product_id</th>\n",
              "    </tr>\n",
              "    <tr>\n",
              "      <th>user_id</th>\n",
              "      <th></th>\n",
              "      <th></th>\n",
              "      <th></th>\n",
              "      <th></th>\n",
              "    </tr>\n",
              "  </thead>\n",
              "  <tbody>\n",
              "    <tr>\n",
              "      <th>1</th>\n",
              "      <td>22</td>\n",
              "      <td>45</td>\n",
              "      <td>3</td>\n",
              "      <td>70</td>\n",
              "    </tr>\n",
              "    <tr>\n",
              "      <th>2</th>\n",
              "      <td>147</td>\n",
              "      <td>77</td>\n",
              "      <td>2</td>\n",
              "      <td>226</td>\n",
              "    </tr>\n",
              "    <tr>\n",
              "      <th>3</th>\n",
              "      <td>67</td>\n",
              "      <td>20</td>\n",
              "      <td>1</td>\n",
              "      <td>88</td>\n",
              "    </tr>\n",
              "    <tr>\n",
              "      <th>4</th>\n",
              "      <td>9</td>\n",
              "      <td>7</td>\n",
              "      <td>2</td>\n",
              "      <td>18</td>\n",
              "    </tr>\n",
              "    <tr>\n",
              "      <th>5</th>\n",
              "      <td>35</td>\n",
              "      <td>10</td>\n",
              "      <td>1</td>\n",
              "      <td>46</td>\n",
              "    </tr>\n",
              "    <tr>\n",
              "      <th>6</th>\n",
              "      <td>10</td>\n",
              "      <td>4</td>\n",
              "      <td>0</td>\n",
              "      <td>14</td>\n",
              "    </tr>\n",
              "    <tr>\n",
              "      <th>7</th>\n",
              "      <td>122</td>\n",
              "      <td>91</td>\n",
              "      <td>2</td>\n",
              "      <td>215</td>\n",
              "    </tr>\n",
              "    <tr>\n",
              "      <th>8</th>\n",
              "      <td>55</td>\n",
              "      <td>12</td>\n",
              "      <td>0</td>\n",
              "      <td>67</td>\n",
              "    </tr>\n",
              "    <tr>\n",
              "      <th>9</th>\n",
              "      <td>57</td>\n",
              "      <td>34</td>\n",
              "      <td>7</td>\n",
              "      <td>98</td>\n",
              "    </tr>\n",
              "    <tr>\n",
              "      <th>10</th>\n",
              "      <td>120</td>\n",
              "      <td>27</td>\n",
              "      <td>0</td>\n",
              "      <td>147</td>\n",
              "    </tr>\n",
              "  </tbody>\n",
              "</table>\n",
              "</div>"
            ],
            "text/plain": [
              "         (pg1, sum)  (pg2, sum)  (pg3, sum)  product_id\n",
              "user_id                                                \n",
              "1                22          45           3          70\n",
              "2               147          77           2         226\n",
              "3                67          20           1          88\n",
              "4                 9           7           2          18\n",
              "5                35          10           1          46\n",
              "6                10           4           0          14\n",
              "7               122          91           2         215\n",
              "8                55          12           0          67\n",
              "9                57          34           7          98\n",
              "10              120          27           0         147"
            ]
          },
          "metadata": {
            "tags": []
          },
          "execution_count": 65
        }
      ]
    },
    {
      "cell_type": "code",
      "metadata": {
        "id": "UWE-2A0lZ9YQ"
      },
      "source": [
        "pgprop = pd.DataFrame(index=pgcounts.index,columns=['pg1','pg2','pg3'])"
      ],
      "execution_count": null,
      "outputs": []
    },
    {
      "cell_type": "code",
      "metadata": {
        "id": "Bwf4-CcfXH3z"
      },
      "source": [
        "# Make a dataframe showing the composition of each customer's order habits by product group\n",
        "for i in range(0,3):\n",
        "  pgprop.iloc[:,i] = pgcounts.iloc[:,i]/pgcounts.iloc[:,3]"
      ],
      "execution_count": null,
      "outputs": []
    },
    {
      "cell_type": "code",
      "metadata": {
        "colab": {
          "base_uri": "https://localhost:8080/",
          "height": 390
        },
        "id": "8CglXhvbbGoT",
        "outputId": "1f3a1f1c-a6de-44e9-f086-844bcce7717d"
      },
      "source": [
        "pgprop.head(10)"
      ],
      "execution_count": null,
      "outputs": [
        {
          "output_type": "execute_result",
          "data": {
            "text/html": [
              "<div>\n",
              "<style scoped>\n",
              "    .dataframe tbody tr th:only-of-type {\n",
              "        vertical-align: middle;\n",
              "    }\n",
              "\n",
              "    .dataframe tbody tr th {\n",
              "        vertical-align: top;\n",
              "    }\n",
              "\n",
              "    .dataframe thead th {\n",
              "        text-align: right;\n",
              "    }\n",
              "</style>\n",
              "<table border=\"1\" class=\"dataframe\">\n",
              "  <thead>\n",
              "    <tr style=\"text-align: right;\">\n",
              "      <th></th>\n",
              "      <th>pg1</th>\n",
              "      <th>pg2</th>\n",
              "      <th>pg3</th>\n",
              "    </tr>\n",
              "    <tr>\n",
              "      <th>user_id</th>\n",
              "      <th></th>\n",
              "      <th></th>\n",
              "      <th></th>\n",
              "    </tr>\n",
              "  </thead>\n",
              "  <tbody>\n",
              "    <tr>\n",
              "      <th>1</th>\n",
              "      <td>0.314286</td>\n",
              "      <td>0.642857</td>\n",
              "      <td>0.042857</td>\n",
              "    </tr>\n",
              "    <tr>\n",
              "      <th>2</th>\n",
              "      <td>0.650442</td>\n",
              "      <td>0.340708</td>\n",
              "      <td>0.008850</td>\n",
              "    </tr>\n",
              "    <tr>\n",
              "      <th>3</th>\n",
              "      <td>0.761364</td>\n",
              "      <td>0.227273</td>\n",
              "      <td>0.011364</td>\n",
              "    </tr>\n",
              "    <tr>\n",
              "      <th>4</th>\n",
              "      <td>0.500000</td>\n",
              "      <td>0.388889</td>\n",
              "      <td>0.111111</td>\n",
              "    </tr>\n",
              "    <tr>\n",
              "      <th>5</th>\n",
              "      <td>0.760870</td>\n",
              "      <td>0.217391</td>\n",
              "      <td>0.021739</td>\n",
              "    </tr>\n",
              "    <tr>\n",
              "      <th>6</th>\n",
              "      <td>0.714286</td>\n",
              "      <td>0.285714</td>\n",
              "      <td>0.000000</td>\n",
              "    </tr>\n",
              "    <tr>\n",
              "      <th>7</th>\n",
              "      <td>0.567442</td>\n",
              "      <td>0.423256</td>\n",
              "      <td>0.009302</td>\n",
              "    </tr>\n",
              "    <tr>\n",
              "      <th>8</th>\n",
              "      <td>0.820896</td>\n",
              "      <td>0.179104</td>\n",
              "      <td>0.000000</td>\n",
              "    </tr>\n",
              "    <tr>\n",
              "      <th>9</th>\n",
              "      <td>0.581633</td>\n",
              "      <td>0.346939</td>\n",
              "      <td>0.071429</td>\n",
              "    </tr>\n",
              "    <tr>\n",
              "      <th>10</th>\n",
              "      <td>0.816327</td>\n",
              "      <td>0.183673</td>\n",
              "      <td>0.000000</td>\n",
              "    </tr>\n",
              "  </tbody>\n",
              "</table>\n",
              "</div>"
            ],
            "text/plain": [
              "              pg1       pg2       pg3\n",
              "user_id                              \n",
              "1        0.314286  0.642857  0.042857\n",
              "2        0.650442  0.340708  0.008850\n",
              "3        0.761364  0.227273  0.011364\n",
              "4        0.500000  0.388889  0.111111\n",
              "5        0.760870  0.217391  0.021739\n",
              "6        0.714286  0.285714  0.000000\n",
              "7        0.567442  0.423256  0.009302\n",
              "8        0.820896  0.179104  0.000000\n",
              "9        0.581633  0.346939  0.071429\n",
              "10       0.816327  0.183673  0.000000"
            ]
          },
          "metadata": {
            "tags": []
          },
          "execution_count": 68
        }
      ]
    },
    {
      "cell_type": "markdown",
      "metadata": {
        "id": "FSdmkXGyfIwe"
      },
      "source": [
        "## Build and process RFMP dataframe"
      ]
    },
    {
      "cell_type": "markdown",
      "metadata": {
        "id": "TEv2C8tLXizr"
      },
      "source": [
        "Check for skewness, log-transform, and standardize data"
      ]
    },
    {
      "cell_type": "code",
      "metadata": {
        "id": "siw7HGJ5bQnC"
      },
      "source": [
        "# Combine recency, frequency, product total, and product group proportions into one dataframe for analysis\n",
        "RFMP = pd.concat([recency,frequency,total_products.iloc[:,0],pgprop], axis = 1, sort = False)\n",
        "RFMP = RFMP.rename(columns = {'days_since_prior_order':'recency', 'order_number':'frequency','order_id':'product_total'})"
      ],
      "execution_count": null,
      "outputs": []
    },
    {
      "cell_type": "code",
      "metadata": {
        "id": "x54zJ9J-Xnvc",
        "colab": {
          "base_uri": "https://localhost:8080/"
        },
        "outputId": "8d8ae7a8-7de0-4861-d610-67482980e3e3"
      },
      "source": [
        "## Check for skewness in recency, frequency, and product total\n",
        "RFMP.shape"
      ],
      "execution_count": null,
      "outputs": [
        {
          "output_type": "execute_result",
          "data": {
            "text/plain": [
              "(206209, 6)"
            ]
          },
          "metadata": {
            "tags": []
          },
          "execution_count": 70
        }
      ]
    },
    {
      "cell_type": "code",
      "metadata": {
        "colab": {
          "base_uri": "https://localhost:8080/",
          "height": 333
        },
        "id": "9A9XX-yjfWzV",
        "outputId": "adb79201-ad92-49e5-ef77-3d4ebe866eca"
      },
      "source": [
        "plt.hist(RFMP['recency'])"
      ],
      "execution_count": null,
      "outputs": [
        {
          "output_type": "execute_result",
          "data": {
            "text/plain": [
              "(array([ 1632., 13695., 27720., 29699., 30259., 28668., 25347., 21452.,\n",
              "        14540., 13197.]),\n",
              " array([ 0.,  3.,  6.,  9., 12., 15., 18., 21., 24., 27., 30.]),\n",
              " <a list of 10 Patch objects>)"
            ]
          },
          "metadata": {
            "tags": []
          },
          "execution_count": 71
        },
        {
          "output_type": "display_data",
          "data": {
            "image/png": "[encoded data removed]",
            "text/plain": [
              "<Figure size 432x288 with 1 Axes>"
            ]
          },
          "metadata": {
            "tags": [],
            "needs_background": "light"
          }
        }
      ]
    },
    {
      "cell_type": "code",
      "metadata": {
        "id": "Il4N5VwXf-PV",
        "colab": {
          "base_uri": "https://localhost:8080/",
          "height": 350
        },
        "outputId": "01c1f206-57bb-42c4-cd01-a79c5e156cfa"
      },
      "source": [
        "plt.hist(RFMP['frequency'])"
      ],
      "execution_count": null,
      "outputs": [
        {
          "output_type": "execute_result",
          "data": {
            "text/plain": [
              "(array([125516.,  38194.,  16176.,  10120.,   5875.,   4063.,   2184.,\n",
              "          1252.,    924.,   1905.]),\n",
              " array([  4. ,  13.6,  23.2,  32.8,  42.4,  52. ,  61.6,  71.2,  80.8,\n",
              "         90.4, 100. ]),\n",
              " <a list of 10 Patch objects>)"
            ]
          },
          "metadata": {
            "tags": []
          },
          "execution_count": 72
        },
        {
          "output_type": "display_data",
          "data": {
            "image/png": "[encoded data removed]",
            "text/plain": [
              "<Figure size 432x288 with 1 Axes>"
            ]
          },
          "metadata": {
            "tags": [],
            "needs_background": "light"
          }
        }
      ]
    },
    {
      "cell_type": "code",
      "metadata": {
        "id": "yr6AsSv6gBwt",
        "colab": {
          "base_uri": "https://localhost:8080/",
          "height": 367
        },
        "outputId": "b2d7b09e-ca1e-43bc-dc71-e6c646448b72"
      },
      "source": [
        "plt.hist(RFMP['product_total'])"
      ],
      "execution_count": null,
      "outputs": [
        {
          "output_type": "execute_result",
          "data": {
            "text/plain": [
              "(array([1.83933e+05, 1.67550e+04, 4.13400e+03, 1.04700e+03, 2.36000e+02,\n",
              "        7.00000e+01, 2.30000e+01, 8.00000e+00, 1.00000e+00, 2.00000e+00]),\n",
              " array([3.0000e+00, 3.7520e+02, 7.4740e+02, 1.1196e+03, 1.4918e+03,\n",
              "        1.8640e+03, 2.2362e+03, 2.6084e+03, 2.9806e+03, 3.3528e+03,\n",
              "        3.7250e+03]),\n",
              " <a list of 10 Patch objects>)"
            ]
          },
          "metadata": {
            "tags": []
          },
          "execution_count": 73
        },
        {
          "output_type": "display_data",
          "data": {
            "image/png": "[encoded data removed]",
            "text/plain": [
              "<Figure size 432x288 with 1 Axes>"
            ]
          },
          "metadata": {
            "tags": [],
            "needs_background": "light"
          }
        }
      ]
    },
    {
      "cell_type": "code",
      "metadata": {
        "colab": {
          "base_uri": "https://localhost:8080/",
          "height": 334
        },
        "id": "EjRwn_WzgHal",
        "outputId": "e6d1e0a0-21f8-4891-a003-5c02dffd85e2"
      },
      "source": [
        "plt.hist(RFMP['pg1'])"
      ],
      "execution_count": null,
      "outputs": [
        {
          "output_type": "execute_result",
          "data": {
            "text/plain": [
              "(array([ 5143.,  4488.,  7756., 12808., 22864., 40019., 48332., 39532.,\n",
              "        18939.,  6328.]),\n",
              " array([0. , 0.1, 0.2, 0.3, 0.4, 0.5, 0.6, 0.7, 0.8, 0.9, 1. ]),\n",
              " <a list of 10 Patch objects>)"
            ]
          },
          "metadata": {
            "tags": []
          },
          "execution_count": 74
        },
        {
          "output_type": "display_data",
          "data": {
            "image/png": "[encoded data removed]",
            "text/plain": [
              "<Figure size 432x288 with 1 Axes>"
            ]
          },
          "metadata": {
            "tags": [],
            "needs_background": "light"
          }
        }
      ]
    },
    {
      "cell_type": "code",
      "metadata": {
        "id": "BiuSmNiCgJqw",
        "colab": {
          "base_uri": "https://localhost:8080/",
          "height": 333
        },
        "outputId": "d68f7344-9d7f-469c-a787-a0eb1f28b088"
      },
      "source": [
        "plt.hist(RFMP['pg2'])"
      ],
      "execution_count": null,
      "outputs": [
        {
          "output_type": "execute_result",
          "data": {
            "text/plain": [
              "(array([ 8847., 27508., 55411., 51930., 31391., 15827.,  6747.,  3558.,\n",
              "         2533.,  2457.]),\n",
              " array([0. , 0.1, 0.2, 0.3, 0.4, 0.5, 0.6, 0.7, 0.8, 0.9, 1. ]),\n",
              " <a list of 10 Patch objects>)"
            ]
          },
          "metadata": {
            "tags": []
          },
          "execution_count": 75
        },
        {
          "output_type": "display_data",
          "data": {
            "image/png": "[encoded data removed]",
            "text/plain": [
              "<Figure size 432x288 with 1 Axes>"
            ]
          },
          "metadata": {
            "tags": [],
            "needs_background": "light"
          }
        }
      ]
    },
    {
      "cell_type": "code",
      "metadata": {
        "colab": {
          "base_uri": "https://localhost:8080/",
          "height": 333
        },
        "id": "5AfvNY2agLj6",
        "outputId": "cca8d042-e9bd-41aa-cfe1-2271fde99ebc"
      },
      "source": [
        "plt.hist(RFMP['pg3'])"
      ],
      "execution_count": null,
      "outputs": [
        {
          "output_type": "execute_result",
          "data": {
            "text/plain": [
              "(array([166591.,  25368.,   7770.,   2932.,   1384.,    919.,    477.,\n",
              "           295.,    242.,    231.]),\n",
              " array([0. , 0.1, 0.2, 0.3, 0.4, 0.5, 0.6, 0.7, 0.8, 0.9, 1. ]),\n",
              " <a list of 10 Patch objects>)"
            ]
          },
          "metadata": {
            "tags": []
          },
          "execution_count": 76
        },
        {
          "output_type": "display_data",
          "data": {
            "image/png": "[encoded data removed]",
            "text/plain": [
              "<Figure size 432x288 with 1 Axes>"
            ]
          },
          "metadata": {
            "tags": [],
            "needs_background": "light"
          }
        }
      ]
    },
    {
      "cell_type": "markdown",
      "metadata": {
        "id": "74Dtbn0AgOYG"
      },
      "source": [
        "Note that Frequency, Product Total, and PG3 (the product group containing non-edible items) are all highly skewed, and the other fields are not. We will transform the skewed fields to scale appropriately and contribute to K-means clustering."
      ]
    },
    {
      "cell_type": "code",
      "metadata": {
        "id": "0FqUuFjEXx87"
      },
      "source": [
        "## Log-transform skewed distributions"
      ],
      "execution_count": null,
      "outputs": []
    },
    {
      "cell_type": "code",
      "metadata": {
        "colab": {
          "base_uri": "https://localhost:8080/"
        },
        "id": "ZCKT17XEgg2H",
        "outputId": "e5b49ce2-063c-4738-abc6-a9cce112c3eb"
      },
      "source": [
        "RFMP['frequency'] = np.log(RFMP['frequency'])\n",
        "RFMP['product_total'] = np.log(RFMP['product_total'])\n",
        "RFMP['pg3'] = np.log(RFMP['pg3'])"
      ],
      "execution_count": null,
      "outputs": [
        {
          "output_type": "stream",
          "text": [
            "/usr/local/lib/python3.7/dist-packages/pandas/core/series.py:726: RuntimeWarning: divide by zero encountered in log\n",
            "  result = getattr(ufunc, method)(*inputs, **kwargs)\n"
          ],
          "name": "stderr"
        }
      ]
    },
    {
      "cell_type": "code",
      "metadata": {
        "id": "cFDVYm4GENwH"
      },
      "source": [
        "# Convert -inf's in pg3 back to 0\n",
        "RFMP['pg3'][np.isneginf(RFMP['pg3'])] = 0"
      ],
      "execution_count": null,
      "outputs": []
    },
    {
      "cell_type": "code",
      "metadata": {
        "colab": {
          "base_uri": "https://localhost:8080/",
          "height": 367
        },
        "id": "VNczp0O5CtjM",
        "outputId": "7d58871a-c053-44d0-9cc7-1bde64b12804"
      },
      "source": [
        "plt.hist(RFMP['frequency'])"
      ],
      "execution_count": null,
      "outputs": [
        {
          "output_type": "execute_result",
          "data": {
            "text/plain": [
              "(array([43576., 30015., 30922., 26616., 24349., 16674., 14373.,  9883.,\n",
              "         5886.,  3915.]),\n",
              " array([1.38629436, 1.70818194, 2.03006953, 2.35195711, 2.67384469,\n",
              "        2.99573227, 3.31761986, 3.63950744, 3.96139502, 4.2832826 ,\n",
              "        4.60517019]),\n",
              " <a list of 10 Patch objects>)"
            ]
          },
          "metadata": {
            "tags": []
          },
          "execution_count": 80
        },
        {
          "output_type": "display_data",
          "data": {
            "image/png": "[encoded data removed]",
            "text/plain": [
              "<Figure size 432x288 with 1 Axes>"
            ]
          },
          "metadata": {
            "tags": [],
            "needs_background": "light"
          }
        }
      ]
    },
    {
      "cell_type": "code",
      "metadata": {
        "colab": {
          "base_uri": "https://localhost:8080/",
          "height": 367
        },
        "id": "ZqpepGtjC0o1",
        "outputId": "732c2764-c966-4e23-cfac-4922968d2c95"
      },
      "source": [
        "plt.hist(RFMP['product_total'])"
      ],
      "execution_count": null,
      "outputs": [
        {
          "output_type": "execute_result",
          "data": {
            "text/plain": [
              "(array([ 1423.,  5248., 17074., 37978., 52653., 45297., 29268., 14009.,\n",
              "         3144.,   115.]),\n",
              " array([1.09861229, 1.81103327, 2.52345426, 3.23587524, 3.94829623,\n",
              "        4.66071721, 5.37313819, 6.08555918, 6.79798016, 7.51040115,\n",
              "        8.22282213]),\n",
              " <a list of 10 Patch objects>)"
            ]
          },
          "metadata": {
            "tags": []
          },
          "execution_count": 81
        },
        {
          "output_type": "display_data",
          "data": {
            "image/png": "[encoded data removed]",
            "text/plain": [
              "<Figure size 432x288 with 1 Axes>"
            ]
          },
          "metadata": {
            "tags": [],
            "needs_background": "light"
          }
        }
      ]
    },
    {
      "cell_type": "code",
      "metadata": {
        "colab": {
          "base_uri": "https://localhost:8080/",
          "height": 367
        },
        "id": "C0_cJPusFcGy",
        "outputId": "dc78b92b-c1a5-4f10-f4d3-dacd932ebd76"
      },
      "source": [
        "plt.hist(RFMP['pg3'])"
      ],
      "execution_count": null,
      "outputs": [
        {
          "output_type": "execute_result",
          "data": {
            "text/plain": [
              "(array([2.0000e+01, 3.0900e+02, 2.1890e+03, 8.7760e+03, 2.2754e+04,\n",
              "        3.8514e+04, 4.0779e+04, 2.8708e+04, 1.0361e+04, 5.3799e+04]),\n",
              " array([-7.83794892, -7.05415402, -6.27035913, -5.48656424, -4.70276935,\n",
              "        -3.91897446, -3.13517957, -2.35138467, -1.56758978, -0.78379489,\n",
              "         0.        ]),\n",
              " <a list of 10 Patch objects>)"
            ]
          },
          "metadata": {
            "tags": []
          },
          "execution_count": 82
        },
        {
          "output_type": "display_data",
          "data": {
            "image/png": "[encoded data removed]",
            "text/plain": [
              "<Figure size 432x288 with 1 Axes>"
            ]
          },
          "metadata": {
            "tags": [],
            "needs_background": "light"
          }
        }
      ]
    },
    {
      "cell_type": "markdown",
      "metadata": {
        "id": "CMgGkR6dF_lS"
      },
      "source": [
        "The skewness has been reduced and we can proceed with standardizing the data."
      ]
    },
    {
      "cell_type": "code",
      "metadata": {
        "id": "6CL5pQYTX1bT"
      },
      "source": [
        "## Standardize the data\n",
        "# This involves scaling and centering so that each column has a mean of 0 and a standard deviation of 1."
      ],
      "execution_count": null,
      "outputs": []
    },
    {
      "cell_type": "code",
      "metadata": {
        "id": "X_z0999gGZdx"
      },
      "source": [
        "scaler = skp.StandardScaler()\n",
        "RFMP_scaled = skp.scale(RFMP)"
      ],
      "execution_count": null,
      "outputs": []
    },
    {
      "cell_type": "code",
      "metadata": {
        "colab": {
          "base_uri": "https://localhost:8080/"
        },
        "id": "a6OLlHYXIJOY",
        "outputId": "c860c4c5-5aae-4230-a2da-88247e9d92a2"
      },
      "source": [
        "RFMP_scaled"
      ],
      "execution_count": null,
      "outputs": [
        {
          "output_type": "execute_result",
          "data": {
            "text/plain": [
              "array([[ 0.51352523, -0.07034766, -0.25913711, -1.43414068,  1.75192055,\n",
              "        -0.51934899],\n",
              "       [ 0.12103549,  0.31679098,  0.82143677,  0.28607854, -0.01305391,\n",
              "        -1.48555096],\n",
              "       [-0.49868517,  0.13817101, -0.04815431,  0.85369678, -0.67567461,\n",
              "        -1.33239785],\n",
              "       ...,\n",
              "       [-0.16429423,  0.47302094,  0.8091164 ,  0.17022367,  0.14469335,\n",
              "        -1.90191012],\n",
              "       [-1.16857368,  1.8196025 ,  1.83295262,  0.70672951, -0.57958603,\n",
              "        -0.88390129],\n",
              "       [ 0.4356629 ,  0.23067336,  0.35994589, -0.42775367,  0.21390834,\n",
              "         0.055135  ]])"
            ]
          },
          "metadata": {
            "tags": []
          },
          "execution_count": 85
        }
      ]
    },
    {
      "cell_type": "markdown",
      "metadata": {
        "id": "l_6MlQOiYcAH"
      },
      "source": [
        "## Find optimal number of clusters"
      ]
    },
    {
      "cell_type": "code",
      "metadata": {
        "id": "JKcFttaaYeo1"
      },
      "source": [
        "# Define a function that finds the optimal number of clusters using the data's Silhouette Score. Borrowed \n",
        "# from https://towardsdatascience.com/the-most-important-data-science-tool-for-market-and-customer-segmentation-c9709ca0b64a"
      ],
      "execution_count": null,
      "outputs": []
    },
    {
      "cell_type": "code",
      "metadata": {
        "id": "R4irnzj_aVJH"
      },
      "source": [
        "def optimal_kmeans(dataset, start = 2, end = 8):\n",
        "  ''' \n",
        "  We don't anticipate having more than 5 clusters\n",
        "\n",
        "  INPUT: dataframe to fit k-means, starting range of k means to test, ending range of k means to test\n",
        "  OUTPUT: values and line plot of silhouette score\n",
        "  '''\n",
        "\n",
        "  n_clu = []\n",
        "  km_ss = []\n",
        "\n",
        "  #Loop to find optimal n_clusters\n",
        "  for n_clusters in range(start,end):\n",
        "\n",
        "    #Create cluster labels\n",
        "    kmeans = skc.KMeans(n_clusters=n_clusters)\n",
        "    labels = kmeans.fit_predict(dataset)\n",
        "\n",
        "    silhouette_avg = round(skm.silhouette_score(dataset, labels, random_state = 1),3)\n",
        "\n",
        "    #Append score to lists\n",
        "    km_ss.append(silhouette_avg)\n",
        "    n_clu.append(n_clusters)\n",
        "\n",
        "    print(\"Number of clusters: {}, Silhouette Score: {}, Change from Previous Cluster: {}\".format(\n",
        "        n_clusters, silhouette_avg, (km_ss[n_clusters - start] - km_ss[n_clusters - start - 1]).round(3)))\n",
        "    \n",
        "    #Plot graph at the end of the loop\n",
        "    if n_clusters == end - 1:\n",
        "      plt.figure(figsize = (6.47,3))\n",
        "      plt.title('Silhouette Score')\n",
        "      sns.pointplot(x=n_clu,y=km_ss)\n",
        "      plt.savefig('silhouette_score.png', format='png',dpi=1000)\n",
        "      plt.tight_layout()\n",
        "      plt.show()\n",
        "\n",
        "    "
      ],
      "execution_count": null,
      "outputs": []
    },
    {
      "cell_type": "code",
      "metadata": {
        "id": "OlBkW3AIsc_V"
      },
      "source": [
        "# Reduce the number of rows in RFMP. Next code block will not run due to runtime restrictions"
      ],
      "execution_count": null,
      "outputs": []
    },
    {
      "cell_type": "code",
      "metadata": {
        "id": "9HPzxl6cslME"
      },
      "source": [
        "RFMP_scaled = pd.DataFrame(RFMP_scaled)\n",
        "RFMP_samp = RFMP_scaled.sample(100000, random_state = 7)"
      ],
      "execution_count": null,
      "outputs": []
    },
    {
      "cell_type": "code",
      "metadata": {
        "colab": {
          "base_uri": "https://localhost:8080/",
          "height": 327
        },
        "id": "ZCh75ahrtxyH",
        "outputId": "296acb9f-9838-4084-d2e6-d09cf6a962c7"
      },
      "source": [
        "optimal_kmeans(RFMP_samp)"
      ],
      "execution_count": null,
      "outputs": [
        {
          "output_type": "stream",
          "text": [
            "Number of clusters: 2, Silhouette Score: 0.261, Change from Previous Cluster: 0.0\n",
            "Number of clusters: 3, Silhouette Score: 0.257, Change from Previous Cluster: -0.004\n",
            "Number of clusters: 4, Silhouette Score: 0.234, Change from Previous Cluster: -0.023\n",
            "Number of clusters: 5, Silhouette Score: 0.223, Change from Previous Cluster: -0.011\n",
            "Number of clusters: 6, Silhouette Score: 0.215, Change from Previous Cluster: -0.008\n",
            "Number of clusters: 7, Silhouette Score: 0.198, Change from Previous Cluster: -0.017\n"
          ],
          "name": "stdout"
        },
        {
          "output_type": "display_data",
          "data": {
            "image/png": "[encoded data removed]",
            "text/plain": [
              "<Figure size 465.84x216 with 1 Axes>"
            ]
          },
          "metadata": {
            "tags": [],
            "needs_background": "light"
          }
        }
      ]
    },
    {
      "cell_type": "markdown",
      "metadata": {
        "id": "1tfXdy1j8NWd"
      },
      "source": [
        "Per the above code, the optimal number of clusters is 7, and perhaps even a higher number, considering we only tested clusters 2-7. For interpretability and simplicity, we will test 5,6, and 7 clusters. "
      ]
    },
    {
      "cell_type": "code",
      "metadata": {
        "id": "SqX1dLQfxI-u"
      },
      "source": [
        "#Run k-means on 5-7 clusters\n",
        "\n",
        "def kmeans(df, clusters_number):\n",
        "  '''\n",
        "  Implement k-means clustering on dataset\n",
        "\n",
        "  INPUT:\n",
        "    df: dataframe for k-means to fit.\n",
        "    clusters_number: int. Number of clusters to form.\n",
        "    end: int. Ending range of kmeans to test.\n",
        "\n",
        "  OUTPUT: Cluster results and t-SNE vis of clusters\n",
        "  '''\n",
        "\n",
        "  kmeans = skc.KMeans(n_clusters = clusters_number, random_state=1)\n",
        "  kmeans.fit(df)\n",
        "\n",
        "  # Extract cluster labels\n",
        "  cluster_labels = kmeans.labels_\n",
        "\n",
        "  # Create a cluster label column in original dataset\n",
        "  df_new = df.assign(Cluster = cluster_labels)\n",
        "\n",
        "  # Initialize TSNE\n",
        "  model = TSNE(random_state = 7)\n",
        "  transformed = model.fit_transform(df)\n",
        "\n",
        "  # Plot t-SNE\n",
        "  plt.title('Flattened Graph of {} Clusters'.format(clusters_number))\n",
        "  sns.scatterplot(x = transformed[:,0], y = transformed[:,1], hue = cluster_labels,style=cluster_labels,palette=\"Set1\")\n",
        "\n",
        "  return df_new, cluster_labels"
      ],
      "execution_count": null,
      "outputs": []
    },
    {
      "cell_type": "code",
      "metadata": {
        "id": "4aGDa7mcCANf",
        "colab": {
          "base_uri": "https://localhost:8080/",
          "height": 283
        },
        "outputId": "a550aaa7-e857-4a63-f8fa-cb541ffc17a5"
      },
      "source": [
        "kmeans(RFMP_samp, 5)"
      ],
      "execution_count": null,
      "outputs": [
        {
          "output_type": "error",
          "ename": "NameError",
          "evalue": "ignored",
          "traceback": [
            "\u001b[0;31m---------------------------------------------------------------------------\u001b[0m",
            "\u001b[0;31mNameError\u001b[0m                                 Traceback (most recent call last)",
            "\u001b[0;32m<ipython-input-92-eb5760fa47da>\u001b[0m in \u001b[0;36m<module>\u001b[0;34m()\u001b[0m\n\u001b[0;32m----> 1\u001b[0;31m \u001b[0mkmeans\u001b[0m\u001b[0;34m(\u001b[0m\u001b[0mRFMP_samp\u001b[0m\u001b[0;34m,\u001b[0m \u001b[0;36m5\u001b[0m\u001b[0;34m)\u001b[0m\u001b[0;34m\u001b[0m\u001b[0;34m\u001b[0m\u001b[0m\n\u001b[0m",
            "\u001b[0;32m<ipython-input-91-7f137fce05fd>\u001b[0m in \u001b[0;36mkmeans\u001b[0;34m(df, clusters_number)\u001b[0m\n\u001b[1;32m     23\u001b[0m \u001b[0;34m\u001b[0m\u001b[0m\n\u001b[1;32m     24\u001b[0m   \u001b[0;31m# Initialize TSNE\u001b[0m\u001b[0;34m\u001b[0m\u001b[0;34m\u001b[0m\u001b[0;34m\u001b[0m\u001b[0m\n\u001b[0;32m---> 25\u001b[0;31m   \u001b[0mmodel\u001b[0m \u001b[0;34m=\u001b[0m \u001b[0mTSNE\u001b[0m\u001b[0;34m(\u001b[0m\u001b[0mrandom_state\u001b[0m \u001b[0;34m=\u001b[0m \u001b[0;36m7\u001b[0m\u001b[0;34m)\u001b[0m\u001b[0;34m\u001b[0m\u001b[0;34m\u001b[0m\u001b[0m\n\u001b[0m\u001b[1;32m     26\u001b[0m   \u001b[0mtransformed\u001b[0m \u001b[0;34m=\u001b[0m \u001b[0mmodel\u001b[0m\u001b[0;34m.\u001b[0m\u001b[0mfit_transform\u001b[0m\u001b[0;34m(\u001b[0m\u001b[0mdf\u001b[0m\u001b[0;34m)\u001b[0m\u001b[0;34m\u001b[0m\u001b[0;34m\u001b[0m\u001b[0m\n\u001b[1;32m     27\u001b[0m \u001b[0;34m\u001b[0m\u001b[0m\n",
            "\u001b[0;31mNameError\u001b[0m: name 'TSNE' is not defined"
          ]
        }
      ]
    },
    {
      "cell_type": "markdown",
      "metadata": {
        "id": "A9wS4bJ3fuPL"
      },
      "source": [
        "# PCA Analysis"
      ]
    },
    {
      "cell_type": "markdown",
      "metadata": {
        "id": "2BQBzcF0f0_M"
      },
      "source": [
        "based off of [this](https://www.kaggle.com/asindico/customer-segments-with-pca) Kaggle notebook"
      ]
    },
    {
      "cell_type": "code",
      "metadata": {
        "id": "gOVmBxzXfzzR"
      },
      "source": [
        "prior = orders_prior\n",
        "train = orders_train"
      ],
      "execution_count": null,
      "outputs": []
    },
    {
      "cell_type": "code",
      "metadata": {
        "id": "9x9oVHbQhHjF"
      },
      "source": [
        "# Reduce amount of data due to RAM\n",
        "prior = prior[0:300000]"
      ],
      "execution_count": null,
      "outputs": []
    },
    {
      "cell_type": "code",
      "metadata": {
        "id": "F-CVzsHggRIR"
      },
      "source": [
        "order_prior = pd.merge(prior, orders, on = ['order_id'])\n",
        "order_prior = order_prior.sort_values(by = ['user_id', 'order_id'])\n",
        "order_prior.head()"
      ],
      "execution_count": null,
      "outputs": []
    },
    {
      "cell_type": "code",
      "metadata": {
        "id": "FAQTJfStgSPH"
      },
      "source": [
        "prior_product = pd.merge(prior, products, on = ['product_id'])\n",
        "prior_prod_order = pd.merge(prior_product, orders, on = ['order_id'])\n",
        "prior_all = pd.merge(prior_prod_order, aisles, on = ['aisle_id'])\n",
        "prior_all.head(10)"
      ],
      "execution_count": null,
      "outputs": []
    },
    {
      "cell_type": "code",
      "metadata": {
        "id": "lrQFZVF1iD9B"
      },
      "source": [
        "# What items customers purchase most frequently\n",
        "prior_all['product_name'].value_counts()[0:10]"
      ],
      "execution_count": null,
      "outputs": []
    },
    {
      "cell_type": "code",
      "metadata": {
        "id": "4k2LGB9yiLOm"
      },
      "source": [
        "len(prior_all['product_name'].unique())"
      ],
      "execution_count": null,
      "outputs": []
    },
    {
      "cell_type": "code",
      "metadata": {
        "id": "STr0DSiXiW-k"
      },
      "source": [
        "len(prior_all['aisle'].unique())"
      ],
      "execution_count": null,
      "outputs": []
    },
    {
      "cell_type": "code",
      "metadata": {
        "id": "LVhEguteiePI"
      },
      "source": [
        "prior_all['aisle'].value_counts()[0:10]"
      ],
      "execution_count": null,
      "outputs": []
    },
    {
      "cell_type": "markdown",
      "metadata": {
        "id": "QJOwF3_RisA4"
      },
      "source": [
        "We have 134 types of products, based on the aisles. Fresh fruits and vegetables are ordered the most often. The only non-perishable items in the top 10 aisles are sparkling water and chips/pretzels."
      ]
    },
    {
      "cell_type": "markdown",
      "metadata": {
        "id": "jTCO73kyjFF6"
      },
      "source": [
        "**Method:**\n",
        "(from Kaggle notebook) We want to find possible clusters among the different customers and substitute the user's user_id with the cluster to which we assign them. This will eventually increase the prediction model performance. "
      ]
    },
    {
      "cell_type": "code",
      "metadata": {
        "id": "xwch-fA_ipu3"
      },
      "source": [
        "# create dataframe with all the purchases made by each user\n",
        "cust_prod = pd.crosstab(prior_all['user_id'], prior_all['aisle'])\n",
        "cust_prod.head(10)"
      ],
      "execution_count": null,
      "outputs": []
    },
    {
      "cell_type": "markdown",
      "metadata": {
        "id": "RHPj7HvLjuvb"
      },
      "source": [
        "Now we will execute the Principal Component Analysis to this dataframe. According to [this](https://builtin.com/data-science/step-step-explanation-principal-component-analysis) article, principal components are new variables that are constructed as linear combinations or mixtures of the initial variables. The new variables (principle components) are uncorrelated. Most of the information in the initial variables is squeezed or compressed into the first components. PCA tries to put the maximum possible information into the first component, and then the maximum remaining information into the second component and so on.\n",
        "\n",
        "Principal components are advantageous because they allow you to reduce dimensionality without losing much information by discarding the components with low information and using the primary components in your model. However, principal components are less interpretable and don't have much meaning because they are constructed as linear combinations of the initial variables.\n",
        "\n",
        "This will reduce the number of features from the number of aisles to 6, the number of principal components we specify below."
      ]
    },
    {
      "cell_type": "code",
      "metadata": {
        "id": "UUC4QHsejmkr"
      },
      "source": [
        "from sklearn.decomposition import PCA\n",
        "pca = PCA(n_components=6)\n",
        "pca.fit(cust_prod)\n",
        "pca_samples = pca.transform(cust_prod)"
      ],
      "execution_count": null,
      "outputs": []
    },
    {
      "cell_type": "code",
      "metadata": {
        "id": "FTLqXt3SkBhY"
      },
      "source": [
        "ps = pd.DataFrame(pca_samples)\n",
        "ps.head()"
      ],
      "execution_count": null,
      "outputs": []
    },
    {
      "cell_type": "markdown",
      "metadata": {
        "id": "LDjHhyu1mbD5"
      },
      "source": [
        "Above, we have plotted several pairs of components looking for one suitable for a KMeans Clustering. We have chosen the (PC4,PC1) pair of -2.07."
      ]
    },
    {
      "cell_type": "code",
      "metadata": {
        "id": "8Lzof5vTkPzU"
      },
      "source": [
        "from matplotlib import pyplot as plt\n",
        "from mpl_toolkits.mplot3d import Axes3D\n",
        "from mpl_toolkits.mplot3d import proj3d\n",
        "tocluster = pd.DataFrame(ps[[4, 1]])\n",
        "print(tocluster.shape)\n",
        "print(tocluster.head())"
      ],
      "execution_count": null,
      "outputs": []
    },
    {
      "cell_type": "code",
      "metadata": {
        "id": "KAPd8uvem6RV"
      },
      "source": [
        "fig = plt.figure(figsize=(8,8))\n",
        "plt.plot(tocluster[4], tocluster[1], 'o', markersize=2, color = 'blue', alpha = 0.5, label = 'class1')\n",
        "plt.xlabel('x_values')\n",
        "plt.ylabel('y_values')\n",
        "plt.legend()\n",
        "plt.show()"
      ],
      "execution_count": null,
      "outputs": []
    },
    {
      "cell_type": "code",
      "metadata": {
        "id": "U1cLLM0rnT1S"
      },
      "source": [
        "from sklearn.cluster import KMeans\n",
        "from sklearn.metrics import silhouette_score\n",
        "\n",
        "clusterer = KMeans(n_clusters=4, random_state=42).fit(tocluster)\n",
        "centers = clusterer.cluster_centers_\n",
        "c_preds = clusterer.predict(tocluster)\n",
        "print(centers)"
      ],
      "execution_count": null,
      "outputs": []
    },
    {
      "cell_type": "code",
      "metadata": {
        "id": "x0p0PUvCnkX_"
      },
      "source": [
        "print(c_preds[0:100])"
      ],
      "execution_count": null,
      "outputs": []
    },
    {
      "cell_type": "code",
      "metadata": {
        "id": "0vY3Sextn3oI"
      },
      "source": [
        "import matplotlib\n",
        "fig = plt.figure(figsize=(8,8))\n",
        "colors = ['orange', 'blue', 'purple','green']\n",
        "colored = [colors[k] for k in c_preds]\n",
        "print(colored[0:10])\n",
        "plt.scatter(tocluster[4], tocluster[1], color = colored)\n",
        "for ci,c in enumerate(centers):\n",
        "  plt.plot(c[0], c[1], 'o', markersize=8, color='red', alpha=0.9, label=''+str(ci))\n",
        "\n",
        "plt.xlabel('x_values')\n",
        "plt.ylabel('y_values')\n",
        "plt.legend()\n",
        "plt.show()"
      ],
      "execution_count": null,
      "outputs": []
    },
    {
      "cell_type": "markdown",
      "metadata": {
        "id": "TFGiqznzosdm"
      },
      "source": [
        "This plot shows a possible clustering for customers. We will investigate further to see if there is an interesting pattern."
      ]
    },
    {
      "cell_type": "code",
      "metadata": {
        "id": "3EorP4dGokKX"
      },
      "source": [
        "clust_prod = cust_prod.copy()\n",
        "clust_prod['cluster'] = c_preds\n",
        "\n",
        "clust_prod.head(10)"
      ],
      "execution_count": null,
      "outputs": []
    },
    {
      "cell_type": "code",
      "metadata": {
        "id": "OYOIDWAnppV_"
      },
      "source": [
        "f,arr = plt.subplots(2,2,sharex=True,figsize=(15,15))\n",
        "\n",
        "c1_count = len(clust_prod[clust_prod['cluster']==0])\n",
        "\n",
        "c0 = clust_prod[clust_prod['cluster']==0].drop('cluster',axis=1).mean()\n",
        "arr[0,0].bar(range(len(clust_prod.drop('cluster',axis=1).columns)),c0)\n",
        "c1 = clust_prod[clust_prod['cluster']==1].drop('cluster',axis=1).mean()\n",
        "arr[0,1].bar(range(len(clust_prod.drop('cluster',axis=1).columns)),c1)\n",
        "c2 = clust_prod[clust_prod['cluster']==2].drop('cluster',axis=1).mean()\n",
        "arr[1,0].bar(range(len(clust_prod.drop('cluster',axis=1).columns)),c2)\n",
        "c3 = clust_prod[clust_prod['cluster']==3].drop('cluster',axis=1).mean()\n",
        "arr[1,1].bar(range(len(clust_prod.drop('cluster',axis=1).columns)),c3)\n",
        "plt.show()"
      ],
      "execution_count": null,
      "outputs": []
    },
    {
      "cell_type": "markdown",
      "metadata": {
        "id": "FZPTU0jup1-T"
      },
      "source": [
        "Looking at the top 10 goods bought by people of each cluster."
      ]
    },
    {
      "cell_type": "code",
      "metadata": {
        "id": "hJCx4uFmpN5N"
      },
      "source": [
        "c0.sort_values(ascending=False)[0:10]"
      ],
      "execution_count": null,
      "outputs": []
    },
    {
      "cell_type": "code",
      "metadata": {
        "id": "IFxfWDRAp83N"
      },
      "source": [
        "c1.sort_values(ascending=False)[0:10]"
      ],
      "execution_count": null,
      "outputs": []
    },
    {
      "cell_type": "code",
      "metadata": {
        "id": "uaU5W0zxqF-X"
      },
      "source": [
        "c2.sort_values(ascending=False)[0:10]"
      ],
      "execution_count": null,
      "outputs": []
    },
    {
      "cell_type": "code",
      "metadata": {
        "id": "IMFtDaaiqKpF"
      },
      "source": [
        "c3.sort_values(ascending=False)[0:10]"
      ],
      "execution_count": null,
      "outputs": []
    },
    {
      "cell_type": "markdown",
      "metadata": {
        "id": "odlKH3Piqa-8"
      },
      "source": [
        "One interesting observation is that cluster 3 contains people who are likely to buy baby food formula. We will now look to see if clusters differ in quantities and proportions of these goods."
      ]
    },
    {
      "cell_type": "code",
      "metadata": {
        "id": "xpNo3tV9qLtF"
      },
      "source": [
        "from IPython.display import display, HTML\n",
        "cluster_means = [[c0['fresh fruits'], c0['fresh vegetables'], c0['packaged vegetables fruits'], c0['yogurt'], c0['packaged cheese'], c0['milk'], c0['water seltzer sparkling water'], c0['chips pretzels']],\n",
        "                 [c1['fresh fruits'],c1['fresh vegetables'],c1['packaged vegetables fruits'], c1['yogurt'], c1['packaged cheese'], c1['milk'],c1['water seltzer sparkling water'],c1['chips pretzels']],\n",
        "                 [c2['fresh fruits'],c2['fresh vegetables'],c2['packaged vegetables fruits'], c2['yogurt'], c2['packaged cheese'], c2['milk'],c2['water seltzer sparkling water'],c2['chips pretzels']],\n",
        "                 [c3['fresh fruits'],c3['fresh vegetables'],c3['packaged vegetables fruits'], c3['yogurt'], c3['packaged cheese'], c3['milk'],c3['water seltzer sparkling water'],c3['chips pretzels']]]\n",
        "cluster_means = pd.DataFrame(cluster_means, columns=['fresh fruits', 'fresh vegetables','packaged vegetables fruits','yogurt','packaged cheese','milk','water seltzer sparkling water','chips pretzels'])\n",
        "HTML(cluster_means.to_html())"
      ],
      "execution_count": null,
      "outputs": []
    },
    {
      "cell_type": "code",
      "metadata": {
        "id": "it14GzVTr7ka"
      },
      "source": [
        "cluster_perc = cluster_means.iloc[:, :].apply(lambda x: (x / x.sum())*100,axis=1)\n",
        "HTML(cluster_perc.to_html())"
      ],
      "execution_count": null,
      "outputs": []
    },
    {
      "cell_type": "markdown",
      "metadata": {
        "id": "f8H7cw--reYe"
      },
      "source": [
        "This table shows the pecentage of these goods with resepct to the other top 8 in each cluster. Some observations:\n",
        "\n",
        "+ Cluster 1 buy more fresh vegetables than other clussters\n",
        "+ Cluster 2 buy more yogurt than other clusters\n",
        "+ Cluster 1 includes customers buying more goods than other clusters\n",
        "\n",
        "Now, we will look at the 10th to 20th most bought products for each cluster to look beyond the generic products (vegetables, fruits, etc.)"
      ]
    },
    {
      "cell_type": "code",
      "metadata": {
        "id": "9RFmQjsIrb1L"
      },
      "source": [
        "c0.sort_values(ascending=False)[10:20]"
      ],
      "execution_count": null,
      "outputs": []
    },
    {
      "cell_type": "code",
      "metadata": {
        "id": "O91Mrg__syr6"
      },
      "source": [
        "c1.sort_values(ascending=False)[10:20]"
      ],
      "execution_count": null,
      "outputs": []
    },
    {
      "cell_type": "code",
      "metadata": {
        "id": "Ub9wuEJfs1zJ"
      },
      "source": [
        "c2.sort_values(ascending=False)[10:20]"
      ],
      "execution_count": null,
      "outputs": []
    },
    {
      "cell_type": "code",
      "metadata": {
        "id": "noLmltCys3IN"
      },
      "source": [
        "c3.sort_values(ascending=False)[10:20]"
      ],
      "execution_count": null,
      "outputs": []
    },
    {
      "cell_type": "markdown",
      "metadata": {
        "id": "nPXZ86_0s-Ir"
      },
      "source": [
        "Observations:\n",
        "\n",
        "+ Cluster 2 purchases from the 'soy lactosefree' aisle frequently\n",
        "+ Cluster 1 contains a lot of unique categories including 'canned meals beans', 'dry pasta', 'oils vinegars', 'spices seasonings', 'soup broth bouillion' which might indicate that this cluster contains home chefs\n",
        "+ Cluster 0 purchases a lot of foods that are easy to consume, including cereal, lunch meat, frozen meals, and soft drinks\n",
        "+ We already characterized Cluster 3 by purchasing Baby Food Formula"
      ]
    },
    {
      "cell_type": "markdown",
      "metadata": {
        "id": "2YrfxVNVuolD"
      },
      "source": [
        "Now let's look at another possible clustering using the (PC2, PC3) pair."
      ]
    },
    {
      "cell_type": "code",
      "metadata": {
        "id": "EhjqzbWrs4Uq"
      },
      "source": [
        "from matplotlib import pyplot as plt\n",
        "from mpl_toolkits.mplot3d import Axes3D\n",
        "from mpl_toolkits.mplot3d import proj3d\n",
        "tocluster = pd.DataFrame(ps[[2, 3]])\n",
        "print(tocluster.shape)\n",
        "print(tocluster.head())\n",
        "\n",
        "fig = plt.figure(figsize=(8,8))\n",
        "plt.plot(tocluster[2], tocluster[3], 'o', markersize=2, color = 'blue', alpha = 0.5, label = 'class1')\n",
        "plt.xlabel('x_values')\n",
        "plt.ylabel('y_values')\n",
        "plt.legend()\n",
        "plt.show()"
      ],
      "execution_count": null,
      "outputs": []
    },
    {
      "cell_type": "code",
      "metadata": {
        "id": "M1j9TpJ-vAFl"
      },
      "source": [
        "from sklearn.cluster import KMeans\n",
        "from sklearn.metrics import silhouette_score\n",
        "\n",
        "clusterer = KMeans(n_clusters=4, random_state=42).fit(tocluster)\n",
        "centers = clusterer.cluster_centers_\n",
        "c_preds = clusterer.predict(tocluster)\n",
        "print(centers)\n",
        "print(c_preds[0:100])"
      ],
      "execution_count": null,
      "outputs": []
    },
    {
      "cell_type": "code",
      "metadata": {
        "id": "n8GQhpHzvKVc"
      },
      "source": [
        "import matplotlib\n",
        "fig = plt.figure(figsize=(8,8))\n",
        "colors = ['orange', 'blue', 'purple','green']\n",
        "colored = [colors[k] for k in c_preds]\n",
        "print(colored[0:10])\n",
        "plt.scatter(tocluster[2], tocluster[3], color = colored)\n",
        "for ci,c in enumerate(centers):\n",
        "  plt.plot(c[0], c[1], 'o', markersize=8, color='red', alpha=0.9, label=''+str(ci))\n",
        "\n",
        "plt.xlabel('x_values')\n",
        "plt.ylabel('y_values')\n",
        "plt.legend()\n",
        "plt.show()"
      ],
      "execution_count": null,
      "outputs": []
    },
    {
      "cell_type": "code",
      "metadata": {
        "id": "pE-M_0DXvMJF"
      },
      "source": [
        "clust_prod2 = cust_prod.copy()\n",
        "clust_prod2['cluster'] = c_preds"
      ],
      "execution_count": null,
      "outputs": []
    },
    {
      "cell_type": "code",
      "metadata": {
        "id": "myGc2_zyvWdC"
      },
      "source": [
        "f,arr = plt.subplots(2,2,sharex=True,figsize=(15,15))\n",
        "\n",
        "c1_count = len(clust_prod2[clust_prod2['cluster']==0])\n",
        "\n",
        "c0 = clust_prod2[clust_prod2['cluster']==0].drop('cluster',axis=1).mean()\n",
        "arr[0,0].bar(range(len(clust_prod2.drop('cluster',axis=1).columns)),c0)\n",
        "c1 = clust_prod2[clust_prod2['cluster']==1].drop('cluster',axis=1).mean()\n",
        "arr[0,1].bar(range(len(clust_prod2.drop('cluster',axis=1).columns)),c1)\n",
        "c2 = clust_prod2[clust_prod2['cluster']==2].drop('cluster',axis=1).mean()\n",
        "arr[1,0].bar(range(len(clust_prod2.drop('cluster',axis=1).columns)),c2)\n",
        "c3 = clust_prod2[clust_prod2['cluster']==3].drop('cluster',axis=1).mean()\n",
        "arr[1,1].bar(range(len(clust_prod2.drop('cluster',axis=1).columns)),c3)\n",
        "plt.show()"
      ],
      "execution_count": null,
      "outputs": []
    },
    {
      "cell_type": "code",
      "metadata": {
        "id": "S3UYkMSlvkQz"
      },
      "source": [
        "c0.sort_values(ascending=False)[0:10]"
      ],
      "execution_count": null,
      "outputs": []
    },
    {
      "cell_type": "code",
      "metadata": {
        "id": "InJ8eQcTvqeZ"
      },
      "source": [
        "c1.sort_values(ascending=False)[0:10]"
      ],
      "execution_count": null,
      "outputs": []
    },
    {
      "cell_type": "code",
      "metadata": {
        "id": "EFmkcmKfvs_q"
      },
      "source": [
        "c2.sort_values(ascending=False)[0:10]"
      ],
      "execution_count": null,
      "outputs": []
    },
    {
      "cell_type": "code",
      "metadata": {
        "id": "7otAqkqmvuBc"
      },
      "source": [
        "c3.sort_values(ascending=False)[0:10]"
      ],
      "execution_count": null,
      "outputs": []
    },
    {
      "cell_type": "code",
      "metadata": {
        "id": "2mu6EhKwvvOr"
      },
      "source": [
        "from IPython.display import display, HTML\n",
        "cluster_means = [[c0['fresh fruits'], c0['fresh vegetables'], c0['packaged vegetables fruits'], c0['yogurt'], c0['packaged cheese'], c0['milk'], c0['water seltzer sparkling water'], c0['chips pretzels'], c0['refrigerated']],\n",
        "                 [c1['fresh fruits'],c1['fresh vegetables'],c1['packaged vegetables fruits'], c1['yogurt'], c1['packaged cheese'], c1['milk'],c1['water seltzer sparkling water'],c1['chips pretzels'], c1['refrigerated']],\n",
        "                 [c2['fresh fruits'],c2['fresh vegetables'],c2['packaged vegetables fruits'], c2['yogurt'], c2['packaged cheese'], c2['milk'],c2['water seltzer sparkling water'],c2['chips pretzels'], c2['refrigerated']],\n",
        "                 [c3['fresh fruits'],c3['fresh vegetables'],c3['packaged vegetables fruits'], c3['yogurt'], c3['packaged cheese'], c3['milk'],c3['water seltzer sparkling water'],c3['chips pretzels'], c3['refrigerated']]]\n",
        "cluster_means = pd.DataFrame(cluster_means, columns=['fresh fruits', 'fresh vegetables','packaged vegetables fruits','yogurt','packaged cheese','milk','water seltzer sparkling water','chips pretzels','refrigerated'])\n",
        "HTML(cluster_means.to_html())"
      ],
      "execution_count": null,
      "outputs": []
    },
    {
      "cell_type": "code",
      "metadata": {
        "id": "dzCJQqpOv7Ln"
      },
      "source": [
        "cluster_perc = cluster_means.iloc[:, :].apply(lambda x: (x / x.sum())*100,axis=1)\n",
        "HTML(cluster_perc.to_html())"
      ],
      "execution_count": null,
      "outputs": []
    },
    {
      "cell_type": "markdown",
      "metadata": {
        "id": "7AbKhHXHwXgm"
      },
      "source": [
        "Observations:\n",
        "\n",
        "+ Cluster 0 is more likely to purchase packaged vegetables and fruits as well as chips/pretzels\n",
        "+ Cluster 3 is far more likely to add yougurt to their cart\n",
        "+ Cluster 2 likes to buy fresh fruits and vegetables"
      ]
    },
    {
      "cell_type": "markdown",
      "metadata": {
        "id": "GCutBD3flYop"
      },
      "source": [
        "# KMeans Clustering"
      ]
    },
    {
      "cell_type": "code",
      "metadata": {
        "id": "s6DeC6qXlXx7"
      },
      "source": [
        "import numpy as np\n",
        "import matplotlib.pyplot as plt\n",
        "import pandas as pd"
      ],
      "execution_count": null,
      "outputs": []
    },
    {
      "cell_type": "code",
      "metadata": {
        "id": "jA4KDi_TwABl"
      },
      "source": [
        "orders_products_cust.head()"
      ],
      "execution_count": null,
      "outputs": []
    },
    {
      "cell_type": "code",
      "metadata": {
        "id": "KROSqLWdoz6B"
      },
      "source": [
        "pgprop.head()"
      ],
      "execution_count": null,
      "outputs": []
    },
    {
      "cell_type": "code",
      "metadata": {
        "id": "T9FtC6WmqiOr"
      },
      "source": [
        " X = pgprop.iloc[1:,1:].values"
      ],
      "execution_count": null,
      "outputs": []
    },
    {
      "cell_type": "markdown",
      "metadata": {
        "id": "wD5vD86pnzBY"
      },
      "source": [
        "## Using the elbow method to find the optimal number of clusters"
      ]
    },
    {
      "cell_type": "code",
      "metadata": {
        "id": "Y5HxZDuak0ep"
      },
      "source": [
        "# WCSS: within-cluster-sum-of-square\n",
        "from sklearn.cluster import KMeans\n",
        "# start a for loop to run kmeans algorithm for up to 10 clusters\n",
        "\n",
        "## 1. create a  blank list of different wcss \n",
        "wcss = []\n",
        "## 2. create the first Kmeans object\n",
        "for i in range(1,11):\n",
        "    kmeans = KMeans(n_clusters=i, init = 'k-means++', random_state= 0).fit(X)\n",
        "    wcss.append(kmeans.inertia_)\n",
        "\n",
        "## 3. To plot the graph\n",
        "plt.plot(range(1,11), wcss)\n",
        "plt.title('The Elbow Method')\n",
        "plt.xlabel('Number of Clusters')\n",
        "plt.ylabel('WCSS')\n",
        "plt.show()\n",
        "\n",
        "## The optimum number of cluster, according to the graph, is 4"
      ],
      "execution_count": null,
      "outputs": []
    },
    {
      "cell_type": "markdown",
      "metadata": {
        "id": "CXElL297k8py"
      },
      "source": [
        "## Training the K-Means model on the dataset"
      ]
    },
    {
      "cell_type": "code",
      "metadata": {
        "id": "xmFcSIAJk-ba"
      },
      "source": [
        "kmeans = KMeans(n_clusters = 4, init = 'k-means++', random_state = 0)\n",
        "kmeans.fit(X)\n",
        "# The value of the dependent variables will be ranging from 1 to 4\n",
        "\n",
        "y_kmeans = kmeans.fit_predict(X)"
      ],
      "execution_count": null,
      "outputs": []
    },
    {
      "cell_type": "code",
      "metadata": {
        "id": "xXTI6CMVoUlx"
      },
      "source": [
        "y_kmeans "
      ],
      "execution_count": null,
      "outputs": []
    },
    {
      "cell_type": "markdown",
      "metadata": {
        "id": "1fmgz1UtlGQj"
      },
      "source": [
        "## Visualising the clusters"
      ]
    },
    {
      "cell_type": "code",
      "metadata": {
        "id": "oyTOOcIMoYtn"
      },
      "source": [
        "# plot annual income against spending score of the customer clusters\n",
        "plt.scatter(X[y_kmeans == 0, 0],X[y_kmeans == 0, 1], s = 100, color ='r', label = 'Cluster 1')\n",
        "plt.scatter(X[y_kmeans == 1,0],X[y_kmeans == 1, 1], s = 100, color ='blue', label = 'Cluster 2')\n",
        "plt.scatter(X[y_kmeans == 2,0],X[y_kmeans == 2, 1], s = 100, color ='green', label = 'Cluster 3')\n",
        "plt.scatter(X[y_kmeans == 3,0],X[y_kmeans == 3, 1], s = 100, color ='cyan', label = 'Cluster 4')\n",
        "\n",
        "# cluster centers\n",
        "plt.scatter(kmeans.cluster_centers_[:, 0],kmeans.cluster_centers_[:, 1], s = 30, c = 'yellow', label = 'Centroids')\n",
        "\n",
        "plt.title('Clusters of Customers')\n",
        "plt.xlabel('pg1')\n",
        "plt.ylabel('pg2')\n",
        "plt.legend()\n",
        "plt.show()"
      ],
      "execution_count": null,
      "outputs": []
    },
    {
      "cell_type": "markdown",
      "metadata": {
        "id": "zVGBrb3hyOpW"
      },
      "source": [
        "# Market Basket Analysis"
      ]
    },
    {
      "cell_type": "code",
      "metadata": {
        "id": "2KEMYTqNolYj"
      },
      "source": [
        "## Transpose order data\n",
        "mb_df = orders_train.drop(['add_to_cart_order','reordered'],axis = 1).set_index('order_id',append=True).unstack(0).sort_index(axis=1, level=1)"
      ],
      "execution_count": null,
      "outputs": []
    },
    {
      "cell_type": "code",
      "metadata": {
        "id": "L-Y5LLyqyX0W"
      },
      "source": [
        "orders_train.head()"
      ],
      "execution_count": null,
      "outputs": []
    },
    {
      "cell_type": "code",
      "metadata": {
        "id": "Rs2UybfKWCzF"
      },
      "source": [
        "!pip install apyori"
      ],
      "execution_count": null,
      "outputs": []
    },
    {
      "cell_type": "code",
      "metadata": {
        "id": "-AT9SwlPOqRQ"
      },
      "source": [
        "import pandas as pd\n",
        "import numpy as np\n",
        "import matplotlib.pyplot as plt\n",
        "from scipy.stats import scoreatpercentile\n",
        "import seaborn as sns\n",
        "import math\n",
        "import sklearn.preprocessing as skp\n",
        "import sklearn.cluster as skc\n",
        "import sklearn.metrics as skm\n",
        "color = sns.color_palette()"
      ],
      "execution_count": null,
      "outputs": []
    },
    {
      "cell_type": "code",
      "metadata": {
        "id": "cqASbQ-5O4yZ"
      },
      "source": [
        "from google.colab import drive\n",
        "drive.mount('/content/drive/')"
      ],
      "execution_count": null,
      "outputs": []
    },
    {
      "cell_type": "code",
      "metadata": {
        "id": "a3ZziJ5pO4ya"
      },
      "source": [
        "# Change directory to the right drive\n",
        "%cd '/content/drive/MyDrive/Kaggle'"
      ],
      "execution_count": null,
      "outputs": []
    },
    {
      "cell_type": "code",
      "metadata": {
        "id": "QANsVUgAO4ya"
      },
      "source": [
        "# Load data\n",
        "aisles = pd.read_csv(\"aisles.csv\")\n",
        "departments = pd.read_csv(\"departments.csv\")\n",
        "orders_prior = pd.read_csv(\"order_products__prior.csv\")\n",
        "orders_train = pd.read_csv(\"order_products__train.csv\")\n",
        "orders = pd.read_csv(\"orders.csv\")\n",
        "products = pd.read_csv(\"products.csv\")"
      ],
      "execution_count": null,
      "outputs": []
    },
    {
      "cell_type": "code",
      "metadata": {
        "id": "RmGrcSahPLKP"
      },
      "source": [
        "# Concatenate orders_prior and orders_train\n",
        "orders_products = pd.concat([orders_prior,orders_train])"
      ],
      "execution_count": null,
      "outputs": []
    },
    {
      "cell_type": "code",
      "metadata": {
        "id": "6Cl5Mwj3VbGb"
      },
      "source": [
        "products.info()"
      ],
      "execution_count": null,
      "outputs": []
    },
    {
      "cell_type": "code",
      "metadata": {
        "id": "RUPAFxWKEmiB"
      },
      "source": [
        "df = orders_products[['order_id','product_id']]"
      ],
      "execution_count": null,
      "outputs": []
    },
    {
      "cell_type": "code",
      "metadata": {
        "id": "HceSCT7XOFkG"
      },
      "source": [
        "clust_prod2"
      ],
      "execution_count": null,
      "outputs": []
    },
    {
      "cell_type": "code",
      "metadata": {
        "id": "k3tRkdS_JGkn"
      },
      "source": [
        "# We need to put all data into a list format\n",
        "## 1. create a blank list first\n",
        "transactions = []\n",
        "## 2. create a for loop to put in all the transaction records\n",
        "for i in range(0,25830): # 25831 is the number of rows\n",
        "    ## 3. use the append function to add elements into the list one by one\n",
        "    transactions.append([str(clust_prod2.values[i,j]) for j in range(0, 134)]) # make sure each value is a string, use str()"
      ],
      "execution_count": null,
      "outputs": []
    },
    {
      "cell_type": "markdown",
      "metadata": {
        "id": "GkLOgf5cSlnZ"
      },
      "source": [
        ""
      ]
    },
    {
      "cell_type": "code",
      "metadata": {
        "id": "Uv1N_Lp5ScQG"
      },
      "source": [
        "from apyori import apriori\n",
        "# the apriori function will return the rules\n",
        "## Only consider products that appear at least three times a day\n",
        "    ### min_support: (3 times in a day * 7 days)/7501 rows = 0.003\n",
        "## generally, min_lift  >= 3\n",
        "## min_length & max_length are based on your business requirements\n",
        "    ### In this case, we just wanna find the best deals of 2 products, to generate marketing strategy like buy 1 product A get 1 product B for free\n",
        "    ### so we set min_length and max_length to 2\n",
        "rules = apriori(transactions = transactions, min_support = 0.003, min_confidence = 0.2, min_lift=3, min_length = 2, max_length = 2)\n"
      ],
      "execution_count": null,
      "outputs": []
    },
    {
      "cell_type": "markdown",
      "metadata": {
        "id": "i0x3Ofb8Sohw"
      },
      "source": [
        "## Visualising the results\n",
        "\n",
        "### Displaying the first results coming directly from the output of the apriori function"
      ]
    },
    {
      "cell_type": "code",
      "metadata": {
        "id": "ggAWop_DSs93"
      },
      "source": [
        "results = list(rules)\n",
        "results\n",
        "# the first line:\n",
        "## items=frozenset({'chicken', 'light cream'}), support=0.004532728969470737, \n",
        "## ordered_statistics=\n",
        "## [OrderedStatistic(items_base=frozenset({'light cream'}), items_add=frozenset({'chicken'}),\n",
        "## confidence=0.29059829059829057, lift=4.84395061728395)]),\n",
        "# Interpretation for the first line:\n",
        "## If the customer buy light cream, he/she will have the probability of up to 0.29 to buy light cream"
      ],
      "execution_count": null,
      "outputs": []
    },
    {
      "cell_type": "markdown",
      "metadata": {
        "id": "4h_hqLQTSzgm"
      },
      "source": [
        "### Putting the results well organised into a Pandas DataFrame"
      ]
    },
    {
      "cell_type": "code",
      "metadata": {
        "id": "I8uY41hsS0DZ"
      },
      "source": [
        "def inspect(results):\n",
        "    lhs = [tuple(result[2][0][0])[0] for result in results]\n",
        "    rhs = [tuple(result[2][0][1])[0] for result in results]\n",
        "    supports = [result[1] for result in results]\n",
        "    confidence = [result[2][0][2] for result in results]\n",
        "    lifts = [result[2][0][3] for result in results]\n",
        "    return list(zip(lhs, rhs, supports, confidence, lifts))\n",
        "resultsinDataFrame = pd.DataFrame(inspect(results), columns = ['Left Hand Side', 'Right Hand Side', 'Support', 'Confidence', 'Lift'])"
      ],
      "execution_count": null,
      "outputs": []
    },
    {
      "cell_type": "markdown",
      "metadata": {
        "id": "3ErUmw29S-Jp"
      },
      "source": [
        "### Displaying the results non sorted"
      ]
    },
    {
      "cell_type": "code",
      "metadata": {
        "id": "7YQUeNSuS-ga"
      },
      "source": [
        "resultsinDataFrame"
      ],
      "execution_count": null,
      "outputs": []
    },
    {
      "cell_type": "markdown",
      "metadata": {
        "id": "sBstedIBTB-w"
      },
      "source": [
        "### Displaying the results sorted by descending lifts"
      ]
    },
    {
      "cell_type": "code",
      "metadata": {
        "id": "tSZGSrtTTDuE"
      },
      "source": [
        "resultsinDataFrame.nlargest(n = 10, columns = 'Lift')"
      ],
      "execution_count": null,
      "outputs": []
    }
  ]
}